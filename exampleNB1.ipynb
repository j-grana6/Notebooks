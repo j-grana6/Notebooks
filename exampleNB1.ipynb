{
 "cells": [
  {
   "cell_type": "markdown",
   "metadata": {},
   "source": [
    "# API To Multi-Resource Blotto Game "
   ]
  },
  {
   "cell_type": "code",
   "execution_count": 11,
   "metadata": {},
   "outputs": [],
   "source": [
    "#First Import the Optimization Script, it has one function build_lp\n",
    "include(\"mrblotto_base.jl\")\n",
    "using JuMP, Clp\n",
    "using GLPK"
   ]
  },
  {
   "cell_type": "markdown",
   "metadata": {},
   "source": [
    "The script only has one function build_lp.  To build the linear program you must specify:\n",
    "\n",
    "1. The number of targets\n",
    "2. The number of each platform for each player\n",
    "3. The payoff function\n",
    "\n",
    "Let's sepcift 1 and 2"
   ]
  },
  {
   "cell_type": "code",
   "execution_count": 9,
   "metadata": {},
   "outputs": [],
   "source": [
    "K = 5 # Number of Targets\n",
    "N1 = [10,0,0,0,1] # P1 Platforms\n",
    "N2 = [5,0,0,0,0]; # P2 Platforms"
   ]
  },
  {
   "cell_type": "markdown",
   "metadata": {},
   "source": [
    "The above cell says that there are 5 targets/battelfields.  Player 1 has 10 platforms of type 1 (given by the index of the number \"10\" in N1) and 1 platform of type 5, (given by the index of the \"1\" in N1).  Player 2 just has 5 platforms of type 1.  However, to begin let's just consider the 1 platform type case and change player 1's platforms to reflect that:"
   ]
  },
  {
   "cell_type": "code",
   "execution_count": 6,
   "metadata": {},
   "outputs": [],
   "source": [
    "N1 = [10,0,0,0,0];"
   ]
  },
  {
   "cell_type": "markdown",
   "metadata": {},
   "source": [
    "The payoff function is where we will define the relative importance of the platforms and how they \"fight\" against one another.  However, all payoff functions take 11 inputs.  \n",
    "\n",
    "1. The first input is the target number.\n",
    "2. The next 5 inputs are p1's allocations of each platform to the target specified by the first input\n",
    "3. THe next 5 inputs are p2's allocations of each platform to the target specified by the first input\n",
    "\n",
    "Let's look at an example"
   ]
  },
  {
   "cell_type": "code",
   "execution_count": 19,
   "metadata": {},
   "outputs": [
    {
     "data": {
      "text/plain": [
       "payoff (generic function with 1 method)"
      ]
     },
     "execution_count": 19,
     "metadata": {},
     "output_type": "execute_result"
    }
   ],
   "source": [
    "function payoff(k,x1,x2,x3,x4,x5,y1,y2,y3,y4,y5)\n",
    "    if k == 1\n",
    "        if x1>y1\n",
    "            return 1\n",
    "        elseif x1<y1\n",
    "            return -1\n",
    "        else\n",
    "            return 0\n",
    "        end\n",
    "    \n",
    "    elseif k == 2\n",
    "        if x1>y1\n",
    "            return 1\n",
    "        elseif x1<y1\n",
    "            return -1\n",
    "        else\n",
    "            return 0\n",
    "        end\n",
    "                    \n",
    "    elseif k == 3\n",
    "        if x1>y1\n",
    "            return 1\n",
    "        elseif x1<y1\n",
    "            return -1\n",
    "        else\n",
    "            return 0\n",
    "        end\n",
    "                            \n",
    "    elseif k == 4\n",
    "        if x1>y1\n",
    "            return 1\n",
    "        elseif x1<y1\n",
    "            return -1\n",
    "        else\n",
    "            return 0\n",
    "        end\n",
    "                                    \n",
    "    elseif k == 5\n",
    "        if x1>y1\n",
    "            return 1\n",
    "        elseif x1<y1\n",
    "            return -1\n",
    "        else\n",
    "            return 0\n",
    "        end\n",
    "    end\n",
    "end\n"
   ]
  },
  {
   "cell_type": "markdown",
   "metadata": {},
   "source": [
    "This payoff function is a special case since the winner of each target is determined the same way.  Specifically, if player 1 puts more of platform of type 1 to the target, player 1 wins.  If player 1 and player 2 put the same number of platforms to the target, they tie.  Otherwise, player 1 loses.  In general, the targets can be heterogeneous.  "
   ]
  },
  {
   "cell_type": "markdown",
   "metadata": {},
   "source": [
    "We can now show how to solve build and solve the LP"
   ]
  },
  {
   "cell_type": "code",
   "execution_count": 29,
   "metadata": {},
   "outputs": [
    {
     "name": "stdout",
     "output_type": "stream",
     "text": [
      "P1's Utility is 2.3999999999999995"
     ]
    }
   ],
   "source": [
    "model, p1_utility = build_lp(K, N1, N2, payoff)\n",
    "optimize!(model)\n",
    "print(\"P1's Utility is \", value(p1_utility)) # Because p1_utility is an optimizer variable, we need to call value to see it"
   ]
  },
  {
   "cell_type": "markdown",
   "metadata": {},
   "source": [
    "This is the simple Blotto game but P1 has more platforms than P2, so as expected, P1 has a positive expected utility.  Now suppose we wanted to consider the case where:\n",
    "\n",
    "1. Player 1 had 1 resource of a capability on a platform\n",
    "2. Player 2 had 2 resources of a capability on a platform\n",
    "\n",
    "In english, player 1 has 1 bomb per platform and player 2 has two boms per platoforms and whoever allocates more bombs to a target wins.  We can capture this in a new payoff function:\n",
    "\n"
   ]
  },
  {
   "cell_type": "code",
   "execution_count": 37,
   "metadata": {},
   "outputs": [
    {
     "data": {
      "text/plain": [
       "payoff_asymmetric_plats (generic function with 1 method)"
      ]
     },
     "execution_count": 37,
     "metadata": {},
     "output_type": "execute_result"
    }
   ],
   "source": [
    "function payoff_asymmetric_plats(k,x1,x2,x3,x4,x5,y1,y2,y3,y4,y5)\n",
    "    if k == 1\n",
    "        if x1>2*y1\n",
    "            return 1\n",
    "        elseif x1<2*y1\n",
    "            return -1\n",
    "        else\n",
    "            return 0\n",
    "        end\n",
    "    \n",
    "    elseif k == 2\n",
    "        if x1>2*y1\n",
    "            return 1\n",
    "        elseif x1<2*y1\n",
    "            return -1\n",
    "        else\n",
    "            return 0\n",
    "        end\n",
    "                    \n",
    "    elseif k == 3\n",
    "        if x1>2*y1\n",
    "            return 1\n",
    "        elseif x1<2*y1\n",
    "            return -1\n",
    "        else\n",
    "            return 0\n",
    "        end\n",
    "                            \n",
    "    elseif k == 4\n",
    "        if x1>2*y1\n",
    "            return 1\n",
    "        elseif x1<2*y1\n",
    "            return -1\n",
    "        else\n",
    "            return 0\n",
    "        end\n",
    "                                    \n",
    "    elseif k == 5\n",
    "        if x1>2*y1\n",
    "            return 1\n",
    "        elseif x1<2*y1\n",
    "            return -1\n",
    "        else\n",
    "            return 0\n",
    "        end\n",
    "    end\n",
    "end"
   ]
  },
  {
   "cell_type": "markdown",
   "metadata": {},
   "source": [
    "Now the payoff says that player 1 wins iff it allocates more bombs to a target, taking into account that player 2 has more bombs per plane."
   ]
  },
  {
   "cell_type": "code",
   "execution_count": 63,
   "metadata": {},
   "outputs": [
    {
     "name": "stdout",
     "output_type": "stream",
     "text": [
      "P1's Utility is -1.5987211554602254e-14"
     ]
    }
   ],
   "source": [
    "model2, p1_utility2 = build_lp(K, N1, N2, payoff_asymmetric_plats)\n",
    "optimize!(model2)\n",
    "print(\"P1's Utility is \", value(p1_utility2))"
   ]
  },
  {
   "cell_type": "markdown",
   "metadata": {},
   "source": [
    "So now player 1 earns 0, which means under this parameterization, there is no benefit to fractionation (an interesting experiment is to see how this changes as you change the number of targets)."
   ]
  },
  {
   "cell_type": "markdown",
   "metadata": {},
   "source": [
    "Finally, suppose we want to examine heterogeneity.  Consider the following scenario:\n",
    "\n",
    "1. Three targets\n",
    "2. Target 1 requires capability 1\n",
    "3. Target 2 requires capability 2\n",
    "4. Target 3 requires either capability 3 or 4.\n",
    "5. Player 1 has 10 total platforms, 5 with capability 1 and 5 with capability 2\n",
    "6. Player 2 has 5 platforms but each platform has both capability 1 and capability 2\n",
    "\n",
    "First we modify the resource and target parameters"
   ]
  },
  {
   "cell_type": "code",
   "execution_count": 68,
   "metadata": {},
   "outputs": [],
   "source": [
    "K = 3 # Number of Targets\n",
    "N1 = [5,5,0,0,0] \n",
    "N2 = [5,0,0,0,0]; "
   ]
  },
  {
   "cell_type": "markdown",
   "metadata": {},
   "source": [
    "Note that the platform in the first index for player 2 does not necessarily have to have the same physical interpretation as the platform of the first index of player 1.  In other words, the 5 in the first position for player 1 says that player 1 has 5 platforms that just have capability 1.  The 5 in the first position for player 2 says that player 2 has 5 platforms that each have 1 resource of capability 1 and capability 2.  \n",
    "\n",
    "Here is how you write the payoff function"
   ]
  },
  {
   "cell_type": "code",
   "execution_count": 69,
   "metadata": {},
   "outputs": [
    {
     "data": {
      "text/plain": [
       "payoff_hetero (generic function with 1 method)"
      ]
     },
     "execution_count": 69,
     "metadata": {},
     "output_type": "execute_result"
    }
   ],
   "source": [
    "function payoff_hetero(k,x1,x2,x3,x4,x5,y1,y2,y3,y4,y5)\n",
    "    if k==1\n",
    "        if x1<y1\n",
    "            return -1\n",
    "        elseif x1>y1\n",
    "            return 1\n",
    "        else\n",
    "            return 0\n",
    "        end\n",
    "    elseif k==2\n",
    "        if x2<y1\n",
    "            return -1\n",
    "        elseif x2>y1\n",
    "            return 1\n",
    "        else\n",
    "            return 0\n",
    "        end\n",
    "        \n",
    "    elseif k==3\n",
    "        if x1+x2<2*y1\n",
    "            return -1\n",
    "        elseif x1+x2>2*y1\n",
    "            return 1\n",
    "        else\n",
    "            return 0\n",
    "        end\n",
    "    end\n",
    "end"
   ]
  },
  {
   "cell_type": "raw",
   "metadata": {},
   "source": [
    "For target 1, only player 1's platforms (first index, x1) that have capability 1 affect its chances of winning the target.  Also, only one of the capabilities on player 2's platform affects player 2's chances of winning the target.  The same is true for target 2.  For target 3, players can allocate either of the capabilities to increase their chances of winning the target.  Therefore, player 1's total allocation to target 3 is its allocation of x1 and x2.  Player 2's total allocation is 2*y1 because it allocates both capabilities per platform.\n",
    "\n",
    "And just to close the discussion, here is the solution with player 1's payoff"
   ]
  },
  {
   "cell_type": "code",
   "execution_count": 70,
   "metadata": {},
   "outputs": [
    {
     "name": "stdout",
     "output_type": "stream",
     "text": [
      "P1's Utility is 0.9999999999999996"
     ]
    }
   ],
   "source": [
    "model3, p1_utility3 = build_lp(K, N1, N2, payoff_hetero)\n",
    "optimize!(model3)\n",
    "print(\"P1's Utility is \", value(p1_utility3))"
   ]
  },
  {
   "cell_type": "markdown",
   "metadata": {},
   "source": [
    "So, even though player 1 and player 2 has the same number of total resources, player 1 does much better because of the heterogeneity of the platforms.  "
   ]
  },
  {
   "cell_type": "code",
   "execution_count": null,
   "metadata": {},
   "outputs": [],
   "source": []
  }
 ],
 "metadata": {
  "kernelspec": {
   "display_name": "Julia 1.1.0",
   "language": "julia",
   "name": "julia-1.1"
  },
  "language_info": {
   "file_extension": ".jl",
   "mimetype": "application/julia",
   "name": "julia",
   "version": "1.1.0"
  }
 },
 "nbformat": 4,
 "nbformat_minor": 2
}
