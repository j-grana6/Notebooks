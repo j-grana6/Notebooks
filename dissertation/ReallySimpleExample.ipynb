{
 "metadata": {
  "name": "",
  "signature": "sha256:4859955a1549db075bbb68fda2b610e1550fe84900790c1da12e5b22f212bca8"
 },
 "nbformat": 3,
 "nbformat_minor": 0,
 "worksheets": [
  {
   "cells": [
    {
     "cell_type": "heading",
     "level": 1,
     "metadata": {},
     "source": [
      "Simple Cyber Scenario -- Iteration II"
     ]
    },
    {
     "cell_type": "markdown",
     "metadata": {},
     "source": [
      "Here I make a *slight* modification to your scenario (it makes it simpler!!!!) and work through an entire example, fleshing out the \"hand waving\"."
     ]
    },
    {
     "cell_type": "heading",
     "level": 2,
     "metadata": {},
     "source": [
      "Comment summary"
     ]
    },
    {
     "cell_type": "markdown",
     "metadata": {},
     "source": [
      "* Simple means **simple**\n",
      "* Work even closer to an analytical result\n",
      "* Strip away everything that is not necessary (including dynamics)\n",
      "* Look into continuous functions/variables (might be easier to work with)"
     ]
    },
    {
     "cell_type": "heading",
     "level": 2,
     "metadata": {},
     "source": [
      "Recap of main points"
     ]
    },
    {
     "cell_type": "markdown",
     "metadata": {},
     "source": [
      "* Attacker chooses intrusion level ; more is better\n",
      "* Defender chooses defense threshold, trading off false alarm vs potential intrusion\n",
      "* Defender does not know if there is any intrusion\n",
      "* Attacker does not observe the sensor\n",
      "* Result 1 :  The attacker chooses the less than maximum amount of intrusion\n",
      "* Result 2 :  Randomization is not necessary due to the noise"
     ]
    },
    {
     "cell_type": "heading",
     "level": 2,
     "metadata": {},
     "source": [
      "Notation"
     ]
    },
    {
     "cell_type": "markdown",
     "metadata": {},
     "source": [
      "* $\\pi$ : Probability of an intruder\n",
      "* $a$, attacker's level of intrusion\n",
      "* $d$, defender's level of detection\n",
      "* $s = a + \\epsilon$ is the reading of the sensor\n",
      "    * If no attacker is present, $a=0$\n",
      "    * $\\epsilon \\sim F(\\epsilon)$\n",
      "* If $s>d$, the alarm is tripped\n",
      "* Attacker receives a utility of $a$ if the alarm is not tripped\n",
      "* The defender earns a utility of $X$ if he does not sound the alarm when an attacker is not present\n",
      "* (The only difference) The defender incurs a constant cost of $c$ if the network does not shut down if the attacker is present.  Note that the cost does not depend on the amount of attack (it makes the math simpler)."
     ]
    },
    {
     "cell_type": "heading",
     "level": 2,
     "metadata": {},
     "source": [
      "Solving it"
     ]
    },
    {
     "cell_type": "markdown",
     "metadata": {},
     "source": [
      "Here I basically solve for the same results you did, but do it in my \"own words.\""
     ]
    },
    {
     "cell_type": "heading",
     "level": 3,
     "metadata": {},
     "source": [
      "The expected utility of the defender"
     ]
    },
    {
     "cell_type": "markdown",
     "metadata": {},
     "source": [
      "$EU_d = (1 - \\pi)P(\\epsilon <d)X$ - $\\pi P(\\epsilon + a <d)c$\n",
      "\n",
      "The first term on the RHS is the utility the defender earns by not sounding the alarm if an attacker is present.  The second term on the RHS is the utility the defender earns if the attacker is present and the defender does not sound the alarm.  Since the defender earns a utility of $0$ whenever he does sound the alarm, those terms are omitted.\n",
      "\n",
      "We can rewrite this using the notation of the CDF as:\n",
      "\n",
      "$EU_d = (1-\\pi)F(d)X - \\pi F(d-a)c$\n",
      "\n",
      "If we define $B$ (as in benefit of not having a false alarm) as $(1-\\pi)X$ and $L$ (as in loss of not sounding an alarm when the attacker is present) as $\\pi c$, then we have:\n",
      "\n",
      "$EU_d = BF(d) - LF(d-a)$   ( Same as prof L's, first equation)\n",
      "\n",
      "Taking derivatives to get the FOC's and then rearranging we see that\n",
      "\n",
      "$\\frac{f(d-a)}{f(d)} = \\frac{B}{L}$\n",
      "\n",
      "Interestingly, this shows that the defender's optimal decision is to set $d$ in order to determine the optimal likelihood ratio!  Interestingly, this is **not** how cyber security works.  In fact current attack detectors simply look at F(d) and set a threshold for that quantity.  However, this provides an analytical background as to **why** a likelihood ratio detector would be superior to a simple anomaly detector.\n",
      "\n",
      "Now, the attacker's expected utility is simply:\n",
      "\n",
      "$EU_a = P(\\text{ no alarm })a = F(d-a)a$\n",
      "\n",
      "SImple enough to see, increasing $a$ increases his reward if he does not get caught but also increases his probability of getting caught.  The first order condition is\n",
      "\n",
      "$F(d-a) - af(d-a) = 0$\n",
      "\n",
      "Rearranging, we get:\n",
      "\n",
      "$a = \\frac{F(d-a)}{f(d-a)}$\n",
      "\n",
      "To recap, the two necessary conditions we have are:\n",
      "\n",
      "$a = \\frac{F(d-a)}{f(d-a)}$\n",
      "\n",
      "and\n",
      "\n",
      "$\\frac{f(d-a)}{f(d)} = \\frac{B}{L}$\n"
     ]
    },
    {
     "cell_type": "heading",
     "level": 3,
     "metadata": {},
     "source": [
      "Closed Form (writing out the hand waving)"
     ]
    },
    {
     "cell_type": "markdown",
     "metadata": {},
     "source": [
      "Using your suggestion, we will let $f(\\epsilon) = 2-2\\epsilon$ for $\\epsilon \\in [0,1]$\n",
      "\n",
      "Omitting the algebra. the best response for the defender is given by\n",
      "\n",
      "\\begin{equation}\n",
      "BR_d(a) =  1 + \\frac{ac\\pi}{c\\pi +x(\\pi-1)}\\\n",
      "\\end{equation}\n",
      "\n",
      "\n",
      "For the attacker, we can factor his first order condition as\n",
      "\n",
      "\\begin{equation}\n",
      "(a-d+1)(2a-d)=0\n",
      "\\end{equation}\n",
      "\n",
      "This implies that\n",
      "\\begin{equation}\n",
      "BR_a(d) = \\frac{d}{2}\n",
      "\\end{equation}.\n",
      "\n",
      "Since we want to impose the realistic restriction that if the defender **knows** an attacker is present, he will sound the alarm, we need to put some restrictions on the parameters.  If the output of the sensor is $>1$, the maximum of the noise, then the defender knows that the attacker must be present in the network.  Therefore, we restrict the analysis to where the defender's strategy $<=1$.  This implies that $c\\pi +x(\\pi-1)<0$, or in other words, $x>\\frac{c \\pi}{1-\\pi}$\n",
      "\n",
      "This also suggests we can ignore the case of $a = d-1$.  This is because the defender will never set a threshold higher than 1 (because the noise is bounded by 1, so anything above 1 must be due to the presence of an attacker).  Therefore, $d-1$ will always be $\\leq 0$, which is not in the attacker's strategy space.  \n",
      "\n",
      "We can now solve for the optimal defender's threshold as\n",
      "\n",
      "\\begin{equation}\n",
      "d^* = 1 + \\frac{c\\pi}{\\frac{1}{2}c\\pi + \\pi x -x}\n",
      "\\end{equation}\n",
      "\n",
      "Now to do some comparative statics:\n",
      "\n",
      "* An increase in the reward to not sounding a false alarm (i.e. derivative of $d^*  \\; \\;w.r.t. X$):\n",
      "\n",
      "\\begin{equation}\n",
      "d' = \\frac{ - c\\pi (\\pi-1)}{(\\frac{1}{2}c\\pi + \\pi x -x)^2}\n",
      "\\end{equation}\n",
      "\n",
      "In this case, the denominator is positive and the numerator is also positive (since $\\pi<1$).  This means that as the reward for not sounding a false alarm goes up, the defender is raises his threshold, which in turn induces more attacks.\n",
      "\n",
      "* An increase in the cost of not catching an attacker, (i.e. derivative of $d^*  \\; \\;w.r.t. c$):\n",
      "\n",
      "\\begin{equation}\n",
      "d' = \\frac{(\\frac{1}{2}c\\pi + \\pi x -x)\\pi - c\\pi\\frac{1}{2}\\pi}{(\\frac{1}{2}c\\pi + \\pi x -x)^2}\n",
      "\\end{equation}\n",
      "\n",
      "The first term in the numerator is negative (because we are only considering the equilibria in (0,1) ) and the second term is positive and therefore the entire derivative is negative.  This implies that, as expected, as the cost of an intruder increases, the defender lowers his threshold.\n",
      "\n",
      "* An increase in the cost of not catching an attacker, (i.e. derivative of $d^*  \\; \\;w.r.t. \\pi$):\n",
      "\n",
      "\\begin{equation}\n",
      "d' = \\frac{(\\frac{1}{2}c\\pi + \\pi x -x)c - (c\\pi\\frac{1}{2}c + x)}{(\\frac{1}{2}c\\pi + \\pi x -x)^2}\n",
      "\\end{equation}\n",
      "\n",
      "Again, the first term in the numerator is negative and the second term is positive, implying that as the exogenous probability of the attacker being in the network increases, the defender lowers his threshold and the attackers then lower the amount of attack they choose."
     ]
    },
    {
     "cell_type": "heading",
     "level": 3,
     "metadata": {},
     "source": [
      "Graphically:"
     ]
    },
    {
     "cell_type": "code",
     "collapsed": false,
     "input": [
      "from matplotlib import pyplot as plt\n",
      "%matplotlib inline\n",
      "import numpy as np\n",
      "fig, ax = plt.subplots()\n",
      "ax.set_xlabel('Attacker Strategy, a')\n",
      "ax.set_ylabel('Defender Strategy, d')\n",
      "ax.plot(strat_space/2., strat_space, label = 'Attacker\\'s Best Response')\n",
      "for i in np.arange(.05, .1, .01):\n",
      "    pi=.2\n",
      "    x=i\n",
      "    c=.1\n",
      "    strat_space = np.arange(0,1.001,.001)\n",
      "    br = 1 + (strat_space*c*pi)/(c*pi +x*(pi-1))\n",
      "    ax.plot(strat_space, br, label='Defender\\'s Best Response, x= ' + str(i))\n",
      "#ax.plot(strat_space, np.ones(len(strat_space)))\n",
      "    ax.set_ylim(-1,2)\n",
      "plt.legend(loc=1, ncol=1, bbox_to_anchor= (1.8,.75))"
     ],
     "language": "python",
     "metadata": {},
     "outputs": [
      {
       "metadata": {},
       "output_type": "pyout",
       "prompt_number": 179,
       "text": [
        "<matplotlib.legend.Legend at 0x7fe1ac55f390>"
       ]
      },
      {
       "metadata": {},
       "output_type": "display_data",
       "png": "[encoded data removed]",
       "text": [
        "<matplotlib.figure.Figure at 0x7fe1ac5e63d0>"
       ]
      }
     ],
     "prompt_number": 179
    },
    {
     "cell_type": "heading",
     "level": 2,
     "metadata": {},
     "source": [
      "Summary"
     ]
    },
    {
     "cell_type": "markdown",
     "metadata": {},
     "source": [
      "* I established basic intuitive results for a cyber scenario that is novel.  More specifically I showed that in the presence of noise, attackers and defenders do not necessarily need to mix to out-wit their opponent.  Instead, they choose their parameters in order to either hide in the noise (for the attacker) and discern a signal from noise (for the defender).  This suggests that attack-detection games in the cyber realm are different from the typical matching-pennies set-up they are typically modeled as.\n",
      "\n",
      "* The most difficult aspect for me was to deal with the a noise term that is bounded.  I think I can elaborate more on this model and present the (counter-intuitive) result that there are certain scenarios where the defender would want to set his threshold higher than the upper bound of the noise.  I can think of multiple ways around this (a priori parameter restrictions, slightly different utility functions, another clever noise distribution, maybe a few other methods) but it would take some time to pound out the details.  Furthermore, I wanted to have a full closed form solution (for practice).  However, it is likely that I could have came across the same intuition assuming a normal distribution on the noise.  I wouldn't have a fully specified closed form but would be able to gather the same intuition ( I tried with exponential noise and that was pretty hard to work with.  Same with power law).\n",
      "\n",
      "* I see a number of possible next steps, though I am not sure which one to follow:\n",
      "    * 1) Keep working with this model and work out the \"kinks\" (weird, non-intuitive solutions)\n",
      "    * 2) Establish more general results (i.e. keeping the noise function more general and determine which properties of the noise are necessary to maintain the intuitive results.\n",
      "    * 3) Continue with the closed-form model and see what happens (to expected utilities/strategies) when the noise becomes more pronounced.  I can do this by changing the bounds on the triangle distributions.\n",
      "    * 4) Expand this model to a network scenario where the attacker possibly chooses among many targets.\n",
      "    \n",
      "Actually 1-4 might be a logical progression of how I should proceed, but I wanted to check with you first for some feedback."
     ]
    },
    {
     "cell_type": "heading",
     "level": 1,
     "metadata": {},
     "source": [
      "Justin's Scratch"
     ]
    },
    {
     "cell_type": "heading",
     "level": 2,
     "metadata": {},
     "source": [
      "The old way"
     ]
    },
    {
     "cell_type": "markdown",
     "metadata": {},
     "source": [
      "Using your suggestion, we will let $f(\\epsilon) = 2-2\\epsilon$ for $\\epsilon \\in [0,1]$\n",
      "\n",
      "Omitting the algebra. the best response for the defender is given by\n",
      "\n",
      "\\begin{equation}\n",
      "BR_d(a) =  1 + \\frac{a\\pi(a-x)}{a\\pi-x}\\\n",
      "\\end{equation}\n",
      "\n",
      "\n",
      "For the attacker, we can factor his first order condition as\n",
      "\n",
      "\\begin{equation}\n",
      "(a-d+1)(2a-d)=0\n",
      "\\end{equation}\n",
      "\n",
      "This implies that\n",
      "\\begin{equation}\n",
      "BR_a(d) = \\frac{d}{2}\n",
      "\\end{equation}.\n",
      "\n",
      "(We can ignore the case of $a = d-1$.  This is because the defender will never set a threshold higher than 1 (because the noise is bounded by 1, so anything above 1 must be due to the presence of an attacker).  Therefore, $d-1$ will always be $\\leq 0$, which is not in the attacker's strategy space.  \n",
      "\n",
      "This establishes that $a(d)$ is strictly increasing in $d$.  A simple and expected result.\n",
      "\n",
      "However, actually deriving equilibrium strategies is not straightforward.  First we have to make a few more technical assumptions:\n",
      "\n",
      "* $a \\neq \\frac{x}{\\pi}$ (or else the defender's best response would not be defined\n",
      "* $x < 1$.  If this wasn't the case, the defender would have an incentive to not sound the alarm, knowing an attacker is present."
     ]
    },
    {
     "cell_type": "heading",
     "level": 3,
     "metadata": {},
     "source": [
      "Some Issues"
     ]
    },
    {
     "cell_type": "markdown",
     "metadata": {},
     "source": [
      "Incentive for defender to set strategy$>1$.\n",
      "\n",
      "The reason is that given an attacker's strategy under some parameter configurations, the defender might want to set his strategy such that he does not sound an alarm, even if he knows an attacker is present.  For example, given an attacker's strategy, the second term in the expected utility for the defender *increases* in $d$ if $d-a<1$.  Of course, this can occur even if $d$ is already $>1$.  \n",
      "\n",
      "This is problematic because it implies we cannot restrict the defender's strategy to be less than the maximum value of the noise, a reasonable assumption..."
     ]
    },
    {
     "cell_type": "code",
     "collapsed": false,
     "input": [
      "from matplotlib import pyplot as plt\n",
      "%matplotlib inline\n",
      "import numpy as np\n",
      "pi=.2\n",
      "x=.1\n",
      "strat_space = np.arange(0,4.001,.001)\n",
      "fig, ax = plt.subplots()\n",
      "ax.set_xlabel('Attacker Strategy')\n",
      "ax.set_ylabel('Defender Strategy')\n",
      "br = 1 + (strat_space*pi*(strat_space-x))/(strat_space*pi-x)\n",
      "ax.plot(strat_space/2., strat_space, label = 'Attacker\\'s Best Response')\n",
      "ax.plot(strat_space, br, label='Defender\\'s Best Response')\n",
      "#ax.plot(strat_space, np.ones(len(strat_space)))\n",
      "ax.set_ylim(-5, 5)\n",
      "plt.legend(loc=8)"
     ],
     "language": "python",
     "metadata": {},
     "outputs": [
      {
       "metadata": {},
       "output_type": "pyout",
       "prompt_number": 93,
       "text": [
        "<matplotlib.legend.Legend at 0x7fe1af411e50>"
       ]
      },
      {
       "metadata": {},
       "output_type": "display_data",
       "png": "[encoded data removed]",
       "text": [
        "<matplotlib.figure.Figure at 0x7fe1af143050>"
       ]
      }
     ],
     "prompt_number": 93
    },
    {
     "cell_type": "code",
     "collapsed": false,
     "input": [
      "def defendereu(pi,x,d ,c,a):\n",
      "    if d<= 0:\n",
      "        Fd=0\n",
      "    elif d>=1:\n",
      "        Fd=1\n",
      "    else:\n",
      "        Fd = 2*d-d**2\n",
      "    if d-a <=0:\n",
      "        Fda = 0\n",
      "    elif d-a >=1:\n",
      "        Fda=1\n",
      "    else:\n",
      "        Fda = 2*(d-a)-(d-a)**2\n",
      "    eu = (1-pi)*Fd*x + pi*Fda*c\n",
      "    return eu\n",
      "\n",
      "defendereu(.2, .1, 10, 1.5, .2)\n",
      "\n",
      "    "
     ],
     "language": "python",
     "metadata": {},
     "outputs": [
      {
       "metadata": {},
       "output_type": "pyout",
       "prompt_number": 169,
       "text": [
        "0.38000000000000006"
       ]
      }
     ],
     "prompt_number": 169
    }
   ],
   "metadata": {}
  }
 ]
}