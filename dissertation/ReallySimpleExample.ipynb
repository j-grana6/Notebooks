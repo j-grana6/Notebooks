{
 "cells": [
  {
   "cell_type": "markdown",
   "metadata": {},
   "source": [
    "Note that the running notebook is now reordered from newest to oldest.  All of the dated headings represent a new round of work.  Also, make sure to click \"toggle input\" to turn the code cells off."
   ]
  },
  {
   "cell_type": "code",
   "execution_count": 103,
   "metadata": {
    "collapsed": true
   },
   "outputs": [],
   "source": [
    "from adsy.display import extended_styles"
   ]
  },
  {
   "cell_type": "code",
   "execution_count": 104,
   "metadata": {
    "collapsed": false
   },
   "outputs": [
    {
     "data": {
      "text/html": [
       "\n",
       "        <script type=\"text/javascript\">\n",
       "        var toggleInput;\n",
       "        (function() {\n",
       "            var inputInterval;\n",
       "            var intervalCount = 0;\n",
       "            var init = false;\n",
       "            var inputUp = false;\n",
       "            toggleInput = function() {\n",
       "                if(inputUp) {\n",
       "                    $('div.input').slideDown();\n",
       "                    $('div.code_cell').attr('style', '');\n",
       "                }\n",
       "                else {\n",
       "                    $('div.input').slideUp();\n",
       "                    $('div.code_cell').attr('style', 'padding: 0px; margin: 0px');\n",
       "                }\n",
       "                inputUp = !inputUp;\n",
       "                init = true;\n",
       "            }\n",
       "            function initExtendedStyles() {\n",
       "                if(intervalCount > 15) {\n",
       "                    clearInterval(inputInterval);\n",
       "                }\n",
       "                intervalCount += 1;\n",
       "                try {\n",
       "                    toggleInput();\n",
       "                    clearInterval(inputInterval);\n",
       "                } catch(e) {}\n",
       "            }\n",
       "            if (typeof jQuery == 'undefined') {\n",
       "                // if jQuery Library is not loaded\n",
       "                var script = document.createElement( 'script' );\n",
       "                script.type = 'text/javascript';\n",
       "                script.src = 'https://ajax.googleapis.com/ajax/libs/jquery/1.8.3/jquery.min.js';\n",
       "                document.body.appendChild(script);\n",
       "            }\n",
       "\n",
       "            setTimeout(initExtendedStyles, 200);\n",
       "            // jQuery is doing this interval trick\n",
       "            // I guess its the way to do it then.\n",
       "            inputInterval = setInterval(initExtendedStyles, 1000);\n",
       "        }());\n",
       "        </script>\n",
       "       <a href=\"javascript:toggleInput()\">Toggle Input</a>\n",
       "        "
      ],
      "text/plain": [
       "<IPython.core.display.HTML object>"
      ]
     },
     "execution_count": 104,
     "metadata": {},
     "output_type": "execute_result"
    }
   ],
   "source": [
    "extended_styles()"
   ]
  },
  {
   "cell_type": "markdown",
   "metadata": {},
   "source": [
    "# Fixing Errors and more generalizing 5/24"
   ]
  },
  {
   "cell_type": "markdown",
   "metadata": {},
   "source": [
    "### Fixing Errors with functional form"
   ]
  },
  {
   "cell_type": "markdown",
   "metadata": {},
   "source": [
    "Below I claim that \"if $c\\pi  >X(1-\\pi)$, then the defender sets the threshold to 1.\"  \n",
    "\n",
    "This should be: if $c\\pi  >X(1-\\pi)$, then the defender sets the threshold to **0**.\n",
    "\n",
    "The original math I did was corret, I just drew the incorrect conclusion.  Anyway, I will do it below with derivatives"
   ]
  },
  {
   "cell_type": "markdown",
   "metadata": {},
   "source": [
    "###### Claim : if $c\\pi  >X(1-\\pi)$, then the defender sets the threshold to a."
   ]
  },
  {
   "cell_type": "markdown",
   "metadata": {},
   "source": [
    "The expected utility is given by\n",
    "\\begin{equation}\n",
    "EU(d)_d =(1-\\pi)X(2d-d^2) - \\pi c\\big[2(d-a) - (d-a)^2\\big]\n",
    "\\end{equation}\n",
    "\n",
    "Taking the derivative w.r.t. $d$ we get\n",
    "\\begin{equation}\n",
    "EU'(d)_d =(1-\\pi)X(1-d) - \\pi c(1-d+a)\n",
    "\\end{equation}\n",
    "\n",
    "For any $a>0$, and  $d>a$, we have that $(1-d+a)>(1-d)$.  Therefore if $\\pi c > (1-\\pi)X$, the derivative is unambiguously negative and the defender's optimal strategy is to set a threshold to a, which means he sounds the alarm whenever there is a positive probability of an attacker.  "
   ]
  },
  {
   "cell_type": "markdown",
   "metadata": {},
   "source": [
    "## Generalizing the probability distribution"
   ]
  },
  {
   "cell_type": "markdown",
   "metadata": {},
   "source": [
    "Here I am sketching out sufficient conditions for there to exist a unique interior Nash equilibrium.  "
   ]
  },
  {
   "cell_type": "markdown",
   "metadata": {},
   "source": [
    "### Assumptions:"
   ]
  },
  {
   "cell_type": "markdown",
   "metadata": {},
   "source": [
    "* $f$ is a continuous, twice differentiable function on an interval of the extended real line.\n",
    "*  **Strict** Log Concavity of $f$\n",
    "\n",
    "Some immediate implications are:\n",
    "\n",
    "* $f$ is at most single peaked\n",
    "\n",
    "* If $f$ is defined on the extended real line, it is single peaked\n",
    "\n"
   ]
  },
  {
   "cell_type": "markdown",
   "metadata": {},
   "source": [
    "###### Attacker's best response "
   ]
  },
  {
   "cell_type": "markdown",
   "metadata": {},
   "source": [
    "Recall the attackers expected utility is given by\n",
    "\n",
    "\\begin{equation}\n",
    "EU_a(d,a) = aF(d-a)\n",
    "\\end{equation}\n",
    "\n",
    "The first order condition is given by\n",
    "\\begin{equation}\n",
    "EU'_a(d,a)= F(d-a) -af(d-a) = 0\n",
    "\\end{equation}\n",
    "\n",
    "We want to show:\n",
    "\n",
    "*  The solution a* to the first order condition is a maximum\n",
    "\n",
    "and investigate\n",
    "\n",
    "* The slope of the attacker's best response function."
   ]
  },
  {
   "cell_type": "markdown",
   "metadata": {},
   "source": [
    "**Claim:** The solution, $a^*$ to $EU'_a(d,a)$ exists for any $d$ in the support of $f$, and is unqiue and $>0$.\n",
    "\n",
    "**Proof:** The FOC can be rewritten as $\\frac{F(d-a)}{f(d-a)} = a$.  At $a=0, \\frac{F(d-a)}{f(d-a)}>0$ which implies $\\frac{F(d-a)}{f(d-a)} - a >0$.  Furthermore, let $\\overline{a} = \\frac{F(d)}{f(d)}$ which must be $>0$.  By log concavity, $\\frac{F(d-a)}{f(d-a)}$ is decreasing in $a$, so  for all $a' > \\overline{a}$ we have that $\\frac{F(d-a')}{f(d-a')} - a' <0$.  By the intermediate value theorem there exists an $a^* \\in (0, \\overline{a})$ such that  $\\frac{F(d-a)}{f(d-a)} -a =0$.  Furthermore, since $\\frac{F(d-a)}{f(d-a)} - a $ is strictly monotone decreasing in $a$, $a^*$ is unique."
   ]
  },
  {
   "cell_type": "markdown",
   "metadata": {},
   "source": [
    "**Claim:** The solution, $a^*$ to $EU'_a(d,a)$ is a maximum.\n",
    "\n",
    "**Proof:** At $a^*$ we have that $\\frac{F(d-a^*)}{f(d-a^*)} -a =0$.  For any $\\underline{a}<a^*$, we know by log concavity that   $\\frac{F(d-\\underline{a})}{f(d-\\underline{a})}> \\frac{F(d-a^*)}{f(d-a^*)}$  Therefore we must have that $\\frac{F(d-\\underline{a})}{f(d-\\underline{a})} - \\underline{a} >0$.  Paralle reasoning shows that for any $\\overline{a} > a^*$, $\\frac{F(d-\\overline{a})}{f(d-\\overline{a})}< \\frac{F(d-a^*)}{f(d-a^*)}$ and therefore $\\frac{F(d-\\overline{a})}{f(d-\\overline{a})} - \\overline{a} <0$.  This establishes that for $\\underline{a}<a^*$, $EU_a(d,\\underline{a})$ is increasing and for any $\\overline{a}>a^*$, $EU_a(d,\\overline{a})$ is decreasing which is sufficient to establish that $a^*$ is a maximum.  "
   ]
  },
  {
   "cell_type": "markdown",
   "metadata": {},
   "source": [
    "**Claim:** The attackers best response is decreasing in $d$.\n",
    "\n",
    "**Proof:** Let $G(d,a) = \\frac{F(d-a)}{f(d-a)}$.  Then the first order condition can be written as $G(d,a) - a =0$.  Total differentiation yields $G_d(dd) + G_a(da) - a(da) = 0$ which implies $\\frac{da}{dd} = -\\frac{G_d}{G_a -1}$.  By log concavity, the numerator is positive and the denominator is negative.  Hence $\\frac{da}{dd} >0$ and the best response for the attacker slopes upward. "
   ]
  },
  {
   "cell_type": "markdown",
   "metadata": {},
   "source": [
    "######  Defender's best response"
   ]
  },
  {
   "cell_type": "markdown",
   "metadata": {},
   "source": [
    "Recall the defenders expected utility is given by\n",
    "\\begin{equation}\n",
    "EU_d(d,a) = (1-\\pi)XF(d) - \\pi cF(d-a)\n",
    "\\end{equation}\n",
    "\n",
    "The first order condition is\n",
    "\n",
    "\\begin{equation}\n",
    "EU'_d(d,a) = (1-\\pi)Xf(d) - \\pi cf(d-a) =0\n",
    "\\end{equation}\n",
    "\n",
    "and the second order condition is\n",
    "\n",
    "\\begin{equation}\n",
    "EU''_d(d,a) = (1-\\pi)Xf'(d) - \\pi cf'(d-a) <0\n",
    "\\end{equation}\n",
    "\n",
    "We now want to show:\n",
    "\n",
    "* The solution, $d^*$, to the first order condition is a maximum\n",
    "\n",
    "and investigate\n",
    "\n",
    "* The slope of the best response function (i.e. $\\frac{dd}{da}$)."
   ]
  },
  {
   "cell_type": "markdown",
   "metadata": {},
   "source": [
    "**Claim 1:**  $\\frac{f(d)}{f(d-a)}$ decreasing in $d$ is sufficient to establish $d^*$ is a maximum.\n",
    "\n",
    "**Proof:** At $d^*$, it must be that $\\frac{\\pi c}{(1-\\pi)X} = \\frac{f(d^*)}{f(d^*-a)}$.  If $\\frac{f(d^*)}{f(d^*-a)}$ is decreasing in d, then for any $\\underline{d}<d^*$ we have $\\frac{\\pi c}{(1-\\pi)X} <\\frac{f(\\underline{d})}{f(\\underline{d}-a)}$.  This implies that $(1-\\pi)Xf(\\underline{d}) - \\pi cf(\\underline{d}-a)=EU'(\\underline{d})>0$,  which implies $EU_d$ is increasing at any $\\underline{d}<d^*$.   Parallel reasoning shows that for any $\\overline{d}>d^*$ we must have $EU'(\\overline{d})<0$, which implies $EU_d$ is decreasing at any $\\overline{d}>d^*$.  This is sufficient for $d^*$ to be a unique, global maximum.  \n"
   ]
  },
  {
   "cell_type": "markdown",
   "metadata": {},
   "source": [
    "**Claim 2:** $H(d) = \\frac{f(d)}{f(d-a)}$ is decreasing in $d$. (Alternatively put, $H'(d)<0$)\n",
    "\n",
    "**Proof:** Since log is a monotonic transformation, it sufficies to show that $\\hat{H}(d) = ln(H(d)) = ln(f(d)) - ln(f(d-a))$ is decreasing in $d$.  Note that $\\hat{H}(d) = \\int_{d-a}^d\\frac{f'(x)}{f(x)}dx$.  Applying Leibnitz rule, we see tht $\\hat{H}'(d) = \\frac{f'(d)}{f(d)} - \\frac{f'(d-a)}{f(d-a)}$.  However, because $f$ is log concave, $\\frac{f'(d)}{f(d)}$ is decreasing in $d$.  Therefore, $\\hat{H}'(d) <0$.  "
   ]
  },
  {
   "cell_type": "markdown",
   "metadata": {},
   "source": [
    "**Conclusion 1 : ** By claim 1 and claim 2, the solution $d^*$ is a unique global maximizer."
   ]
  },
  {
   "cell_type": "markdown",
   "metadata": {},
   "source": [
    "###Slope of the best response "
   ]
  },
  {
   "cell_type": "markdown",
   "metadata": {},
   "source": [
    "**Claim 3:** The sign of the best response is determined by the sign of $f'(d-a)$\n",
    "\n",
    "**Proof: ** The best response is the solution, $d^*$, that solves $\\frac{f(d)}{f(d-a)} = \\frac{\\pi c}{(1-\\pi)X}$  The slope of the best response in $d, a$ space is given by $-\\frac{H_a(d)}{H_d(d)}$.  Note that the slope of the best response is the same sign as $-\\frac{\\hat{H}_a(d)}{\\hat{H}_d(d)}$.  Recall that $\\hat{H}_d$ can be written as $\\hat{H}(d) = \\int_{d-a}^d\\frac{f'(x)}{f(x)}dx$.  By Leibnitz rule, we have the $\\hat{H}'_d = \\frac{f'(d)}{f(d)} - \\frac{f'(d-a)}{f(d-a)} <0$ and $\\hat{H}'_a =  \\frac{f'(d-a)}{f(d-a)}$.  Therefore, we get $-\\frac{H_a(d)}{H_d(d)} = \\frac{\\frac{f'(d-a)}{f(d-a)}}{\\frac{f'(d-a)}{f(d-a)} - \\frac{f'(d)}{f(d)}}$.  By log concavity, the denominator of the entire fraction is positive.  The denomonator of the fraction in the numerator is positive.  Therefore, if $f'(d-a) <0$ then the entire fraction is negative.  Similarly, if   $f'(d-a) >0$, the fraction is positive.\n",
    "\n",
    "\n"
   ]
  },
  {
   "cell_type": "markdown",
   "metadata": {},
   "source": [
    "### Existance of solution to FOC "
   ]
  },
  {
   "cell_type": "markdown",
   "metadata": {},
   "source": [
    "The next step is to show that the solution to $FOC=\\frac{f(d)}{f(d-a)} =\\frac{\\pi c}{(1 - \\pi)X}$ exists.  First we consider the case where $f$ is defined on the entire real line.  Since we know that $\\frac{f(d)}{f(d-a)} =\\frac{\\pi c}{(1 - \\pi)X}$ is decreasing, it suffices to show that $\\displaystyle\\lim_{d\\rightarrow -\\infty}\\frac{f(d)}{f(d-a)} = \\infty$ and $\\displaystyle\\lim_{d\\rightarrow \\infty}\\frac{f(d)}{f(d-a)} = 0 $\n",
    "\n"
   ]
  },
  {
   "cell_type": "markdown",
   "metadata": {},
   "source": [
    " "
   ]
  },
  {
   "cell_type": "markdown",
   "metadata": {},
   "source": [
    "#Generalizing (3/30) "
   ]
  },
  {
   "cell_type": "markdown",
   "metadata": {
    "collapsed": false
   },
   "source": [
    " "
   ]
  },
  {
   "cell_type": "code",
   "execution_count": 22,
   "metadata": {
    "collapsed": true
   },
   "outputs": [],
   "source": [
    "from matplotlib import rc\n",
    "rc('font',**{'family':'sans-serif','sans-serif':['Helvetica']})\n",
    "rc('text', usetex=True)\n",
    "from matplotlib import pyplot as plt\n",
    "import numpy as np\n",
    "from scipy.stats import norm\n",
    "%matplotlib inline"
   ]
  },
  {
   "cell_type": "code",
   "execution_count": 114,
   "metadata": {
    "collapsed": false
   },
   "outputs": [
    {
     "data": {
      "text/plain": [
       "<matplotlib.text.Text at 0x7f648b0bba10>"
      ]
     },
     "execution_count": 114,
     "metadata": {},
     "output_type": "execute_result"
    },
    {
     "data": {
      "image/png": "[encoded data removed]",
      "text/plain": [
       "<matplotlib.figure.Figure at 0x7f648ac4b510>"
      ]
     },
     "metadata": {},
     "output_type": "display_data"
    }
   ],
   "source": [
    "a = np.arange(0,2,.01)\n",
    "fortyfive = np.arange(0,2,.01)\n",
    "fig, ax = plt.subplots()\n",
    "ax.plot(fortyfive, fortyfive, alpha=.45)\n",
    "for d in [.1,.6,1.1]:\n",
    "    ratio = norm.cdf(d-a)/norm.pdf(d-a)\n",
    "    ax.plot(a, ratio, label = \"$d=$\"+str(d), alpha=.5)\n",
    "ax.set_xlabel(\"$a$\", size=18)\n",
    "ax.set_ylabel(r\"$\\frac{F(d-a)}{f(d-a)}$\", size=18, rotation=0, ha=\"right\" )\n",
    "ax.legend()\n",
    "ax.scatter(.782, .7, color=\"green\", marker=\"$a_{.1}^*$\", s=250)\n",
    "ax.scatter(.963, .91, color=\"red\", marker=\"$a_{.6}^*$\", s=250)\n",
    "ax.scatter(1.178, 1.1, color=\"teal\", marker=\"$a_{1.1}^*$\", s=250)\n",
    "ax.set_xlim(0,2)\n",
    "ax.set_ylim(0,2);\n",
    "fig.set_figheight(9)\n",
    "fig.set_figwidth(9)\n",
    "fig.text(.92, .5, \"Best response for the attacker for \\n different values of $d$.\", ha=\"left\", size=18)"
   ]
  },
  {
   "cell_type": "markdown",
   "metadata": {
    "collapsed": false
   },
   "source": [
    "###But how do we generalize? "
   ]
  },
  {
   "cell_type": "markdown",
   "metadata": {},
   "source": [
    "###### Kakutani/Brower? "
   ]
  },
  {
   "cell_type": "markdown",
   "metadata": {},
   "source": [
    "* In order to apply Kakutani or Brower, the action space of the players needs to be compact (closed and bounded).  \n",
    "\n",
    "* In this case the action space is the entire real line. \n",
    "\n",
    "* I attempted to put a restriction on the distribution such that I could prove the strategies outside of a closed interval were dominated and therefore the strategy space would be closed and bounded.\n",
    "\n",
    "* Alas, no luck (yet).  \n",
    "\n",
    "* Furthermore, it would be difficult to prove that this result was unique"
   ]
  },
  {
   "cell_type": "markdown",
   "metadata": {},
   "source": [
    "# Generalizing the SImple Cyber Scenario 3/30/15 "
   ]
  },
  {
   "cell_type": "markdown",
   "metadata": {},
   "source": [
    "In this section I will attempt to generalize the results to log concave probability distributions"
   ]
  },
  {
   "cell_type": "markdown",
   "metadata": {},
   "source": [
    "### Recall: "
   ]
  },
  {
   "cell_type": "markdown",
   "metadata": {},
   "source": [
    "To recap, the two necessary first order conditions \n",
    "are:\n",
    "\n",
    "$a = \\frac{F(d-a)}{f(d-a)}$\n",
    "\n",
    "and\n",
    "\n",
    "$\\frac{f(d-a)}{f(d)} = \\frac{B}{L}$"
   ]
  },
  {
   "cell_type": "markdown",
   "metadata": {},
   "source": [
    "### Log Concave Probability"
   ]
  },
  {
   "cell_type": "markdown",
   "metadata": {},
   "source": [
    "Direct from \"Log-Concave Probability and Its Applications\" by Mark Bagnoli, Ted Bergstrom\n",
    "\n",
    "\"Many interesting propositions in the economics of information are built on the assumption that the log of\n",
    "the cumulative distribution function of a random variable is a concave function. This property is equivalent\n",
    "to the ratio of the density function to the c.d.f. being a monotone decreasing function.\"\n",
    "\n",
    "This might be relevant since the necessary condition for the attacker is the ratio of the c.d.f. to the density.  Note that in this specific case, this condition is equivalent to  $\\frac{F(d-a)}{f(d-a)}$  monotone increasing in $d$ and monotone decreasing in $a$."
   ]
  },
  {
   "cell_type": "markdown",
   "metadata": {},
   "source": [
    "### The exponential distribution "
   ]
  },
  {
   "cell_type": "markdown",
   "metadata": {},
   "source": [
    "Note that the exponential distribution is log-concave.  With exponential noise, the defenders utility function (with a rate parameter of $1$) becomes\n",
    "\n",
    "$$EU(d,a)_d = (1-\\pi)X(1-e^{-d}) - c\\pi(1-e^{-d}e^a)$$\n",
    "\n",
    "$$ = e^{-d}\\big(\\pi ce^a - (1-\\pi)X\\big) + (1-\\pi)X - \\pi c$$\n",
    "\n",
    "Note that for any $a$, the defenders strategy will be to choose a threshold of $0$ (i.e. always sounding the alarm) or $\\infty$, never sounding the alarm. More specifically, if $\\pi ce^{a} >(1-\\pi)X$ then the defender would set a threshold of 0.  Otherwise, he would set a threshold of $\\infty$.  Therefore, the only pure strategy nash equilibria are the trivial ones in which the defender chooses a threshold of $0$ and the attacker chooses any level of attack such that\n",
    "$\\pi ce^{a} >(1-\\pi)X$.\n",
    "\n",
    "**This means that log concavity is not sufficient to guarantee a non-trivial pure strategy equilibrium**"
   ]
  },
  {
   "cell_type": "markdown",
   "metadata": {},
   "source": [
    "# Simple Cyber Scenario -- Iteration II - 2/20/14"
   ]
  },
  {
   "cell_type": "markdown",
   "metadata": {},
   "source": [
    "### After the first dive into the simple model 4 follow-ups emerged"
   ]
  },
  {
   "cell_type": "markdown",
   "metadata": {},
   "source": [
    "* There was a typo/algebra error\n",
    "* Tie up corner solutions\n",
    "* Try with an exponential distribution\n",
    "* Possibly try solving with a power law distribution"
   ]
  },
  {
   "cell_type": "markdown",
   "metadata": {},
   "source": [
    "## Fix typos and tie up corner solutions"
   ]
  },
  {
   "cell_type": "markdown",
   "metadata": {},
   "source": [
    "Recall:   \n",
    "\n",
    "* $ f(\\epsilon) = 2-2\\epsilon$ and $F(\\epsilon) = 2\\epsilon - \\epsilon^2$\n",
    "* $ EU_d = (1 - \\pi)P(\\epsilon <d)X - \\pi P(\\epsilon + a <d)c$\n",
    "* $ EU_a = P(\\text{ no alarm })a = F(d-a)a$\n",
    "* The FOC for the defender is $\\frac{(1-\\pi)X}{\\pi c} = \\frac{f(d-a)}{f(d)}$\n",
    "* The FOC for the attacker is $F(d-a) - af(d-a) =0$ or $a = \\frac{F(d-a)}{f(d-a)}$"
   ]
  },
  {
   "cell_type": "markdown",
   "metadata": {},
   "source": [
    "###### Claim : Assuming $a >0$, the defender will never choose a threshold >1"
   ]
  },
  {
   "cell_type": "markdown",
   "metadata": {},
   "source": [
    "If $d>1$.  Then expected utility is given by\n",
    "$EU_d = (1 - \\pi)X$ - $\\pi P(\\epsilon + a <d)c$.  Note that the first term does not depend on $d$.  The if $d-a>1$, the second term is $\\pi P c$.  However, if $d-a\\leq 1$, decreasing $d$ decreases $\\pi P(\\epsilon + a <d)c$.  Therefore, the defender would not set a threshold $>1$ since he can always reduce the cost of an attacker by lowering the threshold to $1$."
   ]
  },
  {
   "cell_type": "markdown",
   "metadata": {},
   "source": [
    "###### Claim : if $c\\pi  >X(1-\\pi)$, then the defender sets the threshold to 1."
   ]
  },
  {
   "cell_type": "markdown",
   "metadata": {},
   "source": [
    "The expected utility of setting the threshold to 1 is given by:\n",
    "\\begin{equation}\n",
    "EU(1)_d =(1-\\pi)X - \\pi c(1-a^2)\n",
    "\\end{equation}\n",
    "\n",
    "For $\\delta \\in (0,1)$, the expected utility of setting the threshold to $1-\\delta$ is given by\n",
    "\n",
    "\\begin{equation}\n",
    "EU_d(1-\\delta) = (1-\\pi)X(1-\\delta^2)- \\pi c (1-2\\delta a -a^2 - \\delta^2)\n",
    "\\end{equation}\n",
    "\n",
    "Then, the change in utility from changing the threshold from $1$ to $1-\\delta$ is given by\n",
    "\\begin{align}\n",
    "EU(1)- EU(1-\\delta) &= (1-\\pi)X\\delta^2 - \\pi c \\delta^2 - \\pi c 2\\delta a\\\\\n",
    "&=((1-\\pi)X - \\pi c)\\delta^2 - \\pi c 2 \\delta a\n",
    "\\end{align}\n",
    "\n",
    "Note that if $c\\pi  >X(1-\\pi)$, the change in utility from lowering the threshold is unambiguously negative.  Therefore if $c\\pi  >X(1-\\pi)$, the defender sets the threshold to 1."
   ]
  },
  {
   "cell_type": "markdown",
   "metadata": {},
   "source": [
    "### Best Responses"
   ]
  },
  {
   "cell_type": "markdown",
   "metadata": {},
   "source": [
    "From here on out, we will assume that $c\\pi  <X(1-\\pi)$\n",
    "\n",
    "The attacker's best response (by using the quadratic formula) is given by:\n",
    "\n",
    "\\begin{equation}\n",
    "BR_A(d) = \\frac{1}{3} \\big( 2 (d-1) + \\sqrt{d^2-2d+4}\\big)\n",
    "\\end{equation}\n",
    "\n",
    "The best response for the defender is given by (same as before)\n",
    "\n",
    "\\begin{equation}\n",
    "BR_d(a) =  1 + \\frac{ac\\pi}{c\\pi +x(\\pi-1)}\\\n",
    "\\end{equation}\n",
    "\n",
    "Doing a ton of tedious algebra, if we let $B = \\frac{c \\pi}{c\\pi - (\\pi-1)X}<0$, then the attackers  equilibrium strategy, $a^*$ is given by\n",
    "\\begin{equation}\n",
    "a^* = \\frac{1}{\\sqrt{3-4B+B^2}}\n",
    "\\end{equation}\n",
    "and therefore the defender's best response is given by\n",
    "\\begin{equation}\n",
    "d^* = 1 + \\frac{B}{\\sqrt{3-4B+B^2}}\n",
    "\\end{equation}\n",
    "\n",
    "Doing more algebra, we know that:\n",
    "\\begin{align}\n",
    "\\frac{\\partial{B}}{\\partial{X}} &> 0 \\\\\n",
    "\\frac{\\partial{B}}{\\partial{\\pi}} &< 0 \\\\\n",
    "\\frac{\\partial{B}}{\\partial{c}} &< 0 \\\\\n",
    "&\\text { and }\\\\\n",
    "\\frac{d a^*}{dB} = (2-B)(3-4B+B^2)^{-3/2}& > 0 \\\\\n",
    "\\end{align}\n",
    "\n",
    "This implies\n",
    "\n",
    "\\begin{align}\n",
    "\\frac{\\partial{a^*}}{\\partial{X}} &> 0 \\\\\n",
    "\\frac{\\partial{a^*}}{\\partial{\\pi}} &< 0 \\\\\n",
    "\\frac{\\partial{a^*}}{\\partial{c}} &< 0 \\\\\n",
    "\\end{align}\n",
    "\n",
    "This proves the intuitive result that if the defenders reward for not sounding an alarm increases, the amount of attack will increase.  It also shows as the exogenous probability of attacker increases, the amount of attack decreases.  Finally as the cost of an attack to the defender increases, the attacker will attack less.\n",
    "\n",
    "For the defender we have\n",
    "\\begin{equation}\n",
    "\\frac{d d^*}{dB} = \\frac{3-2B}{3-4B+B^2} > 0 \n",
    "\\end{equation}\n",
    "\n",
    "This implies:\n",
    "\n",
    "\\begin{align}\n",
    "\\frac{\\partial{d^*}}{\\partial{X}} &> 0 \\\\\n",
    "\\frac{\\partial{d^*}}{\\partial{\\pi}} &< 0 \\\\\n",
    "\\frac{\\partial{d^*}}{\\partial{c}} &< 0 \\\\\n",
    "\\end{align}\n",
    "\n",
    "In words, the more reward a defender receives for not sounding a false alarm, the higher the threshold.  The more likely an attacker, the lower the threshold.  Finally, a higher cost to attack indicates a lower threshold."
   ]
  },
  {
   "cell_type": "markdown",
   "metadata": {},
   "source": [
    "### Closed form solutions with other distributions"
   ]
  },
  {
   "cell_type": "markdown",
   "metadata": {},
   "source": [
    "* (I am omitting the algenra here and just stating the result) When using the exponential distribution, the equilibrium has the two players mixing.     Furthermore, I could not find a closed form solution for the attacker's strategy.  It boils down to an equation of the firm $e^x +x =c$, which I don't believe is solvable.  "
   ]
  },
  {
   "cell_type": "markdown",
   "metadata": {},
   "source": [
    "### Power law"
   ]
  },
  {
   "cell_type": "markdown",
   "metadata": {},
   "source": [
    "This is the start of a rework of the same example with a power law distribution : $F(\\epsilon) = 1-\\frac{1}{\\epsilon}$ and $f(\\epsilon) = \\frac{1}{\\epsilon^2}$  We will also assume that $c\\pi< (1-\\pi)X$.  Otherwise, the defender would never sound the alarm (the argument is similar as above, I think).\n",
    "\n",
    "The FOC for the attacker is given by:\n",
    "\\begin{equation}\n",
    "1 - \\frac{1}{d - a} - \\frac{a}{(d - a)^2} = 0\n",
    "\\end{equation}\n",
    "\n",
    "The second order condition to ensure a maximum is then given by\n",
    "\\begin{equation}\n",
    "SOC = \\frac{a}{a-d}-1 <0\n",
    "\\end{equation}\n",
    "\n",
    "The attacker's best response is given by\n",
    "\\begin{align}\n",
    "BR_A(d) = d + \\sqrt{d} \\\\\n",
    "\\text{ and } \\\\\n",
    "BR_A(d)= d - \\sqrt{d}\n",
    "\\end{align}\n",
    "\n",
    "However, we can rule out the attacker setting an attack level higher than the defender's \n",
    "threshold so the best response for the attacker is $d-\\sqrt{d}$.  This implies that the SOC is\n",
    "\\begin{equation}\n",
    "SOC = \\frac{d-\\sqrt{d}}{d-\\sqrt{d} -d} -1 = \\frac{d - \\sqrt{d}}{-\\sqrt{d}} -1 <0\n",
    "\\end{equation}\n",
    "\n",
    "\n",
    "For the defender, the FOC is given by\n",
    "\\begin{align}\n",
    "0 &= (1-\\pi)Xf(d) - \\pi c f(d-a)\\\\\n",
    "& = (1-\\pi)X\\frac{1}{d^2} - \\pi c(\\frac{1}{(d-a)^2})\n",
    "\\end{align}\n",
    "\n",
    "If we let $Z = (1-\\pi)X>0$ then this simplifies to\n",
    "\\begin{equation}\n",
    "d^2(Z-\\pi c) - 2Zad +Za^2=0\n",
    "\\end{equation}\n",
    "\n",
    "Solving for the best response function yields\n",
    "\\begin{align}\n",
    "BR_{D1}(a) = \\frac{a}{1-\\sqrt{\\frac{c \\pi}{Z}}} \\\\\n",
    "\\text {and } \\\\\n",
    "BR_{D2}(a) = \\frac{a}{1+\\sqrt{\\frac{c \\pi}{Z}}}\n",
    "\\end{align}\n",
    "\n",
    "Now it gets a bit tricky (i.e. I have to delve into my memory of calc 1).  The attacker's best response is $BR_A(d) = d- \\sqrt{d}$ Plug this into the best response functions and solve:\n",
    "\n",
    "\\begin{align}\n",
    "d = \\frac{d-\\sqrt{d}}{1-\\sqrt{\\frac{c \\pi}{Z}}} \\implies d \\sqrt{\\frac{c\\pi}{Z}} - \\sqrt{d} =0  \\\\\n",
    "\\text {and } \\\\\n",
    "d = \\frac{d-\\sqrt{d}}{1+\\sqrt{\\frac{c \\pi}{Z}}}\\implies d \\sqrt{\\frac{c\\pi}{Z}} + \\sqrt{d} =0\n",
    "\\end{align}\n",
    "\n",
    "However, since we are assuming positive parameters, the second equation is impossible.  Therefore, we solve the first and see that:\n",
    "\\begin{equation}\n",
    "d^* = \\frac{Z}{c\\pi} = \\frac{(1-\\pi)X}{c\\pi}\n",
    "\\end{equation}\n",
    "and therefore\n",
    "\\begin{equation}\n",
    "a^*= \\frac{(1-\\pi)X}{c\\pi} - \\sqrt{\\frac{(1-\\pi)X}{c\\pi}}\n",
    "\\end{equation}\n",
    "\n",
    "For the defender, it is simple to see that as the reward for not sounding an alarm increases ($X$), the threshold increases.  As the cost of an intruder increases ($c$), the threshold decreases.  With a tad bit of calculus and algebra, we can see that as the exogenous probability of an attacker increases ($\\pi$), the threshold decreases.\n",
    "\n",
    "The attacker is a bit trickier but we can write\n",
    "\n",
    "\\begin{align}\n",
    "& \\frac{\\partial{a^*}}{\\partial{X}} = (1-\\frac{1}{2d^{1/2}})\\frac{\\partial{d^*}}{\\partial{X}} >0 \\text{ (because } d^*>1\\text{)}\\\\\n",
    "& \\frac{\\partial{a^*}}{\\partial{c}} = (1-\\frac{1}{2d^{1/2}})\\frac{\\partial{d^*}}{\\partial{c}} <0 \\\\\n",
    "& \\frac{\\partial{a^*}}{\\partial{\\pi}} = (1-\\frac{1}{2d^{1/2}})\\frac{\\partial{d^*}}{\\partial{\\pi}} <0 \n",
    "\\end{align}\n",
    "\n",
    "Again, we get the same summary as before when we used the triangle distribution"
   ]
  },
  {
   "cell_type": "markdown",
   "metadata": {},
   "source": [
    "## Summary"
   ]
  },
  {
   "cell_type": "markdown",
   "metadata": {},
   "source": [
    "In this week's works I :\n",
    "* (Hopefully) fixed algebraic errors.\n",
    "* Completely characterized the solutions and dealt with corner cases when the noise follows a triangle distribution.\n",
    "* Repeated the same experiment but this time with a power-law distribution and obtained the same results.\n",
    "\n",
    "Basically, this confirms that under some noise distributions, the attacker and defender do not need to randomize their strategies in order to be strategic.  Instead, the attacker chooses the amount of attack such that he optimally trades off going undetected by the sensor vs accumulating utility. \n",
    "\n",
    "In both cases, the attacker chooses less than the maximum amount of attack.  This is important because most of the practical cyber security literature assumes that once an attacker infiltrates a network, they accumulate as much utility as possible without considering the probability of getting caught.  However, the results in both of these models show that a rational attacker will take into account the anomaly detection system (defender's threshold) when choosing how much to attack.  \n",
    "\n",
    "Moving forwards, I think it would be best to \"play\" with these results a bit more.  I would like to develop the results when the variance increases and I hope I can do it with these two distributions.  After that, I would like to put the work into the context of the literature and current cyber security.  \n",
    "\n",
    "Finally, the question that keeps popping up in my mind is where this work will fit in my dissertation.  I see two possibilities.  The first (and the one I am going to shoot for), is that I can work and extend this model (in closed form, of course) that it becomes a stand \n",
    "alone paper.  Then my dissertation would have this paper serving as an \"economics\" style game theoretic model and still continue with the large-network, CS style game theoretic model.  \n",
    "\n",
    "The second option (and the one I am trying to avoid) is that this work is just a motivator for other work and does not stand alone. \n",
    "\n",
    "Do you have any thoughts or opinions?  "
   ]
  },
  {
   "cell_type": "markdown",
   "metadata": {},
   "source": [
    "# Simple Cyber Scenario -- Iteration II - 2/9/14\n",
    "\n",
    "Here I make a *slight* modification to your scenario (it makes it simpler!!!!) and work through an entire example, fleshing out the \"hand waving\".\n",
    "\n",
    "## Comment summary\n",
    "\n",
    "* Simple means **simple**\n",
    "* Work even closer to an analytical result\n",
    "* Strip away everything that is not necessary (including dynamics)\n",
    "* Look into continuous functions/variables (might be easier to work with)\n",
    "\n",
    "## Recap of main points\n",
    "\n",
    "* Attacker chooses intrusion level ; more is better\n",
    "* Defender chooses defense threshold, trading off false alarm vs potential intrusion\n",
    "* Defender does not know if there is any intrusion\n",
    "* Attacker does not observe the sensor\n",
    "* Result 1 :  The attacker chooses the less than maximum amount of intrusion\n",
    "* Result 2 :  Randomization is not necessary due to the noise\n",
    "\n",
    "## Notation\n",
    "\n",
    "* $\\pi$ : Probability of an intruder\n",
    "* $a$, attacker's level of intrusion\n",
    "* $d$, defender's level of detection\n",
    "* $s = a + \\epsilon$ is the reading of the sensor\n",
    "    * If no attacker is present, $a=0$\n",
    "    * $\\epsilon \\sim F(\\epsilon)$\n",
    "* If $s>d$, the alarm is tripped\n",
    "* Attacker receives a utility of $a$ if the alarm is not tripped\n",
    "* The defender earns a utility of $X$ if he does not sound the alarm when an attacker is not present\n",
    "* (The only difference) The defender incurs a constant cost of $c$ if the network does not shut down if the attacker is present.  Note that the cost does not depend on the amount of attack (it makes the math simpler).\n",
    "\n",
    "## Solving it\n",
    "\n",
    "Here I basically solve for the same results you did, but do it in my \"own words.\"\n",
    "\n",
    "### The expected utility of the defender\n",
    "\n",
    "$EU_d = (1 - \\pi)P(\\epsilon <d)X$ - $\\pi P(\\epsilon + a <d)c$\n",
    "\n",
    "The first term on the RHS is the utility the defender earns by not sounding the alarm if an attacker is present.  The second term on the RHS is the utility the defender earns if the attacker is present and the defender does not sound the alarm.  Since the defender earns a utility of $0$ whenever he does sound the alarm, those terms are omitted.\n",
    "\n",
    "We can rewrite this using the notation of the CDF as:\n",
    "\n",
    "$EU_d = (1-\\pi)F(d)X - \\pi F(d-a)c$\n",
    "\n",
    "If we define $B$ (as in benefit of not having a false alarm) as $(1-\\pi)X$ and $L$ (as in loss of not sounding an alarm when the attacker is present) as $\\pi c$, then we have:\n",
    "\n",
    "$EU_d = BF(d) - LF(d-a)$   ( Same as prof L's, first equation)\n",
    "\n",
    "Taking derivatives to get the FOC's and then rearranging we see that\n",
    "\n",
    "$\\frac{f(d-a)}{f(d)} = \\frac{B}{L}$\n",
    "\n",
    "Interestingly, this shows that the defender's optimal decision is to set $d$ in order to determine the optimal likelihood ratio!  Interestingly, this is **not** how cyber security works.  In fact current attack detectors simply look at F(d) and set a threshold for that quantity.  However, this provides an analytical background as to **why** a likelihood ratio detector would be superior to a simple anomaly detector.\n",
    "\n",
    "Now, the attacker's expected utility is simply:\n",
    "\n",
    "$EU_a = P(\\text{ no alarm })a = F(d-a)a$\n",
    "\n",
    "SImple enough to see, increasing $a$ increases his reward if he does not get caught but also increases his probability of getting caught.  The first order condition is\n",
    "\n",
    "$F(d-a) - af(d-a) = 0$\n",
    "\n",
    "Rearranging, we get:\n",
    "\n",
    "$a = \\frac{F(d-a)}{f(d-a)}$\n",
    "\n",
    "To recap, the two necessary conditions we have are:\n",
    "\n",
    "$a = \\frac{F(d-a)}{f(d-a)}$\n",
    "\n",
    "and\n",
    "\n",
    "$\\frac{f(d-a)}{f(d)} = \\frac{B}{L}$\n",
    "\n",
    "\n",
    "### Closed Form (writing out the hand waving)\n",
    "\n",
    "Using your suggestion, we will let $f(\\epsilon) = 2-2\\epsilon$ for $\\epsilon \\in [0,1]$\n",
    "\n",
    "Omitting the algebra. the best response for the defender is given by\n",
    "\n",
    "\\begin{equation}\n",
    "BR_d(a) =  1 + \\frac{ac\\pi}{c\\pi +x(\\pi-1)}\\\n",
    "\\end{equation}\n",
    "\n",
    "\n",
    "For the attacker, we can factor his first order condition as\n",
    "\n",
    "\\begin{equation}\n",
    "(a-d+1)(2a-d)=0\n",
    "\\end{equation}\n",
    "\n",
    "This implies that\n",
    "\\begin{equation}\n",
    "BR_a(d) = \\frac{d}{2}\n",
    "\\end{equation}.\n",
    "\n",
    "Since we want to impose the realistic restriction that if the defender **knows** an attacker is present, he will sound the alarm, we need to put some restrictions on the parameters.  If the output of the sensor is $>1$, the maximum of the noise, then the defender knows that the attacker must be present in the network.  Therefore, we restrict the analysis to where the defender's strategy $<=1$.  This implies that $c\\pi +x(\\pi-1)<0$, or in other words, $x>\\frac{c \\pi}{1-\\pi}$\n",
    "\n",
    "This also suggests we can ignore the case of $a = d-1$.  This is because the defender will never set a threshold higher than 1 (because the noise is bounded by 1, so anything above 1 must be due to the presence of an attacker).  Therefore, $d-1$ will always be $\\leq 0$, which is not in the attacker's strategy space.  \n",
    "\n",
    "We can now solve for the optimal defender's threshold as\n",
    "\n",
    "\\begin{equation}\n",
    "d^* = 1 + \\frac{c\\pi}{\\frac{1}{2}c\\pi + \\pi x -x}\n",
    "\\end{equation}\n",
    "\n",
    "Now to do some comparative statics:\n",
    "\n",
    "* An increase in the reward to not sounding a false alarm (i.e. derivative of $d^*  \\; \\;w.r.t. X$):\n",
    "\n",
    "\\begin{equation}\n",
    "d' = \\frac{ - c\\pi (\\pi-1)}{(\\frac{1}{2}c\\pi + \\pi x -x)^2}\n",
    "\\end{equation}\n",
    "\n",
    "In this case, the denominator is positive and the numerator is also positive (since $\\pi<1$).  This means that as the reward for not sounding a false alarm goes up, the defender is raises his threshold, which in turn induces more attacks.\n",
    "\n",
    "* An increase in the cost of not catching an attacker, (i.e. derivative of $d^*  \\; \\;w.r.t. c$):\n",
    "\n",
    "\\begin{equation}\n",
    "d' = \\frac{(\\frac{1}{2}c\\pi + \\pi x -x)\\pi - c\\pi\\frac{1}{2}\\pi}{(\\frac{1}{2}c\\pi + \\pi x -x)^2}\n",
    "\\end{equation}\n",
    "\n",
    "The first term in the numerator is negative (because we are only considering the equilibria in (0,1) ) and the second term is positive and therefore the entire derivative is negative.  This implies that, as expected, as the cost of an intruder increases, the defender lowers his threshold.\n",
    "\n",
    "* An increase in the cost of not catching an attacker, (i.e. derivative of $d^*  \\; \\;w.r.t. \\pi$):\n",
    "\n",
    "\\begin{equation}\n",
    "d' = \\frac{(\\frac{1}{2}c\\pi + \\pi x -x)c - (c\\pi\\frac{1}{2}c + x)}{(\\frac{1}{2}c\\pi + \\pi x -x)^2}\n",
    "\\end{equation}\n",
    "\n",
    "Again, the first term in the numerator is negative and the second term is positive, implying that as the exogenous probability of the attacker being in the network increases, the defender lowers his threshold and the attackers then lower the amount of attack they choose."
   ]
  },
  {
   "cell_type": "markdown",
   "metadata": {},
   "source": [
    "### Graphically:"
   ]
  },
  {
   "cell_type": "code",
   "execution_count": 179,
   "metadata": {
    "collapsed": false
   },
   "outputs": [
    {
     "data": {
      "text/plain": [
       "<matplotlib.legend.Legend at 0x7fe1ac55f390>"
      ]
     },
     "execution_count": 179,
     "metadata": {},
     "output_type": "execute_result"
    },
    {
     "data": {
      "image/png": "[encoded data removed]",
      "text/plain": [
       "<matplotlib.figure.Figure at 0x7fe1ac5e63d0>"
      ]
     },
     "metadata": {},
     "output_type": "display_data"
    }
   ],
   "source": [
    "from matplotlib import pyplot as plt\n",
    "%matplotlib inline\n",
    "import numpy as np\n",
    "fig, ax = plt.subplots()\n",
    "ax.set_xlabel('Attacker Strategy, a')\n",
    "ax.set_ylabel('Defender Strategy, d')\n",
    "ax.plot(strat_space/2., strat_space, label = 'Attacker\\'s Best Response')\n",
    "for i in np.arange(.05, .1, .01):\n",
    "    pi=.2\n",
    "    x=i\n",
    "    c=.1\n",
    "    strat_space = np.arange(0,1.001,.001)\n",
    "    br = 1 + (strat_space*c*pi)/(c*pi +x*(pi-1))\n",
    "    ax.plot(strat_space, br, label='Defender\\'s Best Response, x= ' + str(i))\n",
    "#ax.plot(strat_space, np.ones(len(strat_space)))\n",
    "    ax.set_ylim(-1,2)\n",
    "plt.legend(loc=1, ncol=1, bbox_to_anchor= (1.8,.75))"
   ]
  },
  {
   "cell_type": "markdown",
   "metadata": {},
   "source": [
    "## Summary\n",
    "\n",
    "* I established basic intuitive results for a cyber scenario that is novel.  More specifically I showed that in the presence of noise, attackers and defenders do not necessarily need to mix to out-wit their opponent.  Instead, they choose their parameters in order to either hide in the noise (for the attacker) and discern a signal from noise (for the defender).  This suggests that attack-detection games in the cyber realm are different from the typical matching-pennies set-up they are typically modeled as.\n",
    "\n",
    "* The most difficult aspect for me was to deal with the a noise term that is bounded.  I think I can elaborate more on this model and present the (counter-intuitive) result that there are certain scenarios where the defender would want to set his threshold higher than the upper bound of the noise.  I can think of multiple ways around this (a priori parameter restrictions, slightly different utility functions, another clever noise distribution, maybe a few other methods) but it would take some time to pound out the details.  Furthermore, I wanted to have a full closed form solution (for practice).  However, it is likely that I could have came across the same intuition assuming a normal distribution on the noise.  I wouldn't have a fully specified closed form but would be able to gather the same intuition ( I tried with exponential noise and that was pretty hard to work with.  Same with power law).\n",
    "\n",
    "* I see a number of possible next steps, though I am not sure which one to follow:\n",
    "    * 1) Keep working with this model and work out the \"kinks\" (weird, non-intuitive solutions)\n",
    "    * 2) Establish more general results (i.e. keeping the noise function more general and determine which properties of the noise are necessary to maintain the intuitive results.\n",
    "    * 3) Continue with the closed-form model and see what happens (to expected utilities/strategies) when the noise becomes more pronounced.  I can do this by changing the bounds on the triangle distributions.\n",
    "    * 4) Expand this model to a network scenario where the attacker possibly chooses among many targets.\n",
    "    \n",
    "Actually 1-4 might be a logical progression of how I should proceed, but I wanted to check with you first for some feedback."
   ]
  },
  {
   "cell_type": "markdown",
   "metadata": {},
   "source": [
    "# Justin's Scratch Work"
   ]
  },
  {
   "cell_type": "code",
   "execution_count": 74,
   "metadata": {
    "collapsed": false
   },
   "outputs": [],
   "source": [
    "sqterm =.5\n",
    "x=np.arange(1,10,.01)\n",
    "y1 = x/(1+sqterm**.5)\n",
    "y2=x/(1-sqterm**.5)"
   ]
  },
  {
   "cell_type": "code",
   "execution_count": 75,
   "metadata": {
    "collapsed": false
   },
   "outputs": [
    {
     "data": {
      "text/plain": [
       "[<matplotlib.lines.Line2D at 0x7f3d063073d0>]"
      ]
     },
     "execution_count": 75,
     "metadata": {},
     "output_type": "execute_result"
    },
    {
     "data": {
      "image/png": "[encoded data removed]",
      "text/plain": [
       "<matplotlib.figure.Figure at 0x7f3d06307c50>"
      ]
     },
     "metadata": {},
     "output_type": "display_data"
    }
   ],
   "source": [
    "plt.plot(x, y1)\n",
    "plt.plot(x, y2)"
   ]
  },
  {
   "cell_type": "code",
   "execution_count": null,
   "metadata": {
    "collapsed": false
   },
   "outputs": [],
   "source": []
  },
  {
   "cell_type": "markdown",
   "metadata": {},
   "source": [
    "## The old way"
   ]
  },
  {
   "cell_type": "markdown",
   "metadata": {},
   "source": [
    "Using your suggestion, we will let $f(\\epsilon) = 2-2\\epsilon$ for $\\epsilon \\in [0,1]$\n",
    "\n",
    "Omitting the algebra. the best response for the defender is given by\n",
    "\n",
    "\\begin{equation}\n",
    "BR_d(a) =  1 + \\frac{a\\pi(a-x)}{a\\pi-x}\\\n",
    "\\end{equation}\n",
    "\n",
    "\n",
    "For the attacker, we can factor his first order condition as\n",
    "\n",
    "\\begin{equation}\n",
    "(a-d+1)(2a-d)=0\n",
    "\\end{equation}\n",
    "\n",
    "This implies that\n",
    "\\begin{equation}\n",
    "BR_a(d) = \\frac{d}{2}\n",
    "\\end{equation}.\n",
    "\n",
    "(We can ignore the case of $a = d-1$.  This is because the defender will never set a threshold higher than 1 (because the noise is bounded by 1, so anything above 1 must be due to the presence of an attacker).  Therefore, $d-1$ will always be $\\leq 0$, which is not in the attacker's strategy space.  \n",
    "\n",
    "This establishes that $a(d)$ is strictly increasing in $d$.  A simple and expected result.\n",
    "\n",
    "However, actually deriving equilibrium strategies is not straightforward.  First we have to make a few more technical assumptions:\n",
    "\n",
    "* $a \\neq \\frac{x}{\\pi}$ (or else the defender's best response would not be defined\n",
    "* $x < 1$.  If this wasn't the case, the defender would have an incentive to not sound the alarm, knowing an attacker is present."
   ]
  },
  {
   "cell_type": "markdown",
   "metadata": {},
   "source": [
    "### Some Issues"
   ]
  },
  {
   "cell_type": "markdown",
   "metadata": {},
   "source": [
    "Incentive for defender to set strategy$>1$.\n",
    "\n",
    "The reason is that given an attacker's strategy under some parameter configurations, the defender might want to set his strategy such that he does not sound an alarm, even if he knows an attacker is present.  For example, given an attacker's strategy, the second term in the expected utility for the defender *increases* in $d$ if $d-a<1$.  Of course, this can occur even if $d$ is already $>1$.  \n",
    "\n",
    "This is problematic because it implies we cannot restrict the defender's strategy to be less than the maximum value of the noise, a reasonable assumption..."
   ]
  },
  {
   "cell_type": "code",
   "execution_count": 93,
   "metadata": {
    "collapsed": false
   },
   "outputs": [
    {
     "data": {
      "text/plain": [
       "<matplotlib.legend.Legend at 0x7fe1af411e50>"
      ]
     },
     "execution_count": 93,
     "metadata": {},
     "output_type": "execute_result"
    },
    {
     "data": {
      "image/png": "[encoded data removed]",
      "text/plain": [
       "<matplotlib.figure.Figure at 0x7fe1af143050>"
      ]
     },
     "metadata": {},
     "output_type": "display_data"
    }
   ],
   "source": [
    "from matplotlib import pyplot as plt\n",
    "%matplotlib inline\n",
    "import numpy as np\n",
    "pi=.2\n",
    "x=.1\n",
    "strat_space = np.arange(0,4.001,.001)\n",
    "fig, ax = plt.subplots()\n",
    "ax.set_xlabel('Attacker Strategy')\n",
    "ax.set_ylabel('Defender Strategy')\n",
    "br = 1 + (strat_space*pi*(strat_space-x))/(strat_space*pi-x)\n",
    "ax.plot(strat_space/2., strat_space, label = 'Attacker\\'s Best Response')\n",
    "ax.plot(strat_space, br, label='Defender\\'s Best Response')\n",
    "#ax.plot(strat_space, np.ones(len(strat_space)))\n",
    "ax.set_ylim(-5, 5)\n",
    "plt.legend(loc=8)"
   ]
  },
  {
   "cell_type": "code",
   "execution_count": 169,
   "metadata": {
    "collapsed": false
   },
   "outputs": [
    {
     "data": {
      "text/plain": [
       "0.38000000000000006"
      ]
     },
     "execution_count": 169,
     "metadata": {},
     "output_type": "execute_result"
    }
   ],
   "source": [
    "def defendereu(pi,x,d ,c,a):\n",
    "    if d<= 0:\n",
    "        Fd=0\n",
    "    elif d>=1:\n",
    "        Fd=1\n",
    "    else:\n",
    "        Fd = 2*d-d**2\n",
    "    if d-a <=0:\n",
    "        Fda = 0\n",
    "    elif d-a >=1:\n",
    "        Fda=1\n",
    "    else:\n",
    "        Fda = 2*(d-a)-(d-a)**2\n",
    "    eu = (1-pi)*Fd*x + pi*Fda*c\n",
    "    return eu\n",
    "\n",
    "defendereu(.2, .1, 10, 1.5, .2)\n",
    "\n",
    "    "
   ]
  },
  {
   "cell_type": "code",
   "execution_count": 43,
   "metadata": {
    "collapsed": false
   },
   "outputs": [],
   "source": [
    "import numpy as np\n",
    "def EU_defender_exponential(d, a=200, X=1, C=.3, pi=.5):\n",
    "    return (1-pi)*X *(1-np.exp(-(d))) - pi*C*(1-np.exp(-(d-a)))"
   ]
  },
  {
   "cell_type": "code",
   "execution_count": 44,
   "metadata": {
    "collapsed": false
   },
   "outputs": [],
   "source": [
    "eus = []\n",
    "for d in np.arange(0,3,.01):\n",
    "    eus.append(EU_defender_exponential(d))"
   ]
  },
  {
   "cell_type": "code",
   "execution_count": 45,
   "metadata": {
    "collapsed": false
   },
   "outputs": [],
   "source": [
    "from matplotlib import pyplot as plt\n",
    "%matplotlib inline"
   ]
  },
  {
   "cell_type": "code",
   "execution_count": 46,
   "metadata": {
    "collapsed": false
   },
   "outputs": [
    {
     "data": {
      "text/plain": [
       "[<matplotlib.lines.Line2D at 0x7f3d06765cd0>]"
      ]
     },
     "execution_count": 46,
     "metadata": {},
     "output_type": "execute_result"
    },
    {
     "data": {
      "image/png": "[encoded data removed]",
      "text/plain": [
       "<matplotlib.figure.Figure at 0x7f3d067eb090>"
      ]
     },
     "metadata": {},
     "output_type": "display_data"
    }
   ],
   "source": [
    "plt.plot(eus)"
   ]
  },
  {
   "cell_type": "code",
   "execution_count": 121,
   "metadata": {
    "collapsed": false
   },
   "outputs": [],
   "source": []
  },
  {
   "cell_type": "code",
   "execution_count": 103,
   "metadata": {
    "collapsed": false
   },
   "outputs": [],
   "source": [
    "def attacker_eu_power(a, d=9, X=1, C=.3, pi=.5):\n",
    "    return a*(1-1./float(d-a))\n",
    "\n",
    "eus = []\n",
    "for a in np.arange(1,8.9,.01):\n",
    "    eus.append(attacker_eu_power(a))"
   ]
  },
  {
   "cell_type": "code",
   "execution_count": 105,
   "metadata": {
    "collapsed": false
   },
   "outputs": [
    {
     "data": {
      "text/plain": [
       "(0, 6)"
      ]
     },
     "execution_count": 105,
     "metadata": {},
     "output_type": "execute_result"
    },
    {
     "data": {
      "image/png": "[encoded data removed]",
      "text/plain": [
       "<matplotlib.figure.Figure at 0x7f3d05c1f990>"
      ]
     },
     "metadata": {},
     "output_type": "display_data"
    }
   ],
   "source": [
    "plt.plot(np.arange(1,8.9,.01), eus)\n",
    "plt.ylim(0,6)"
   ]
  },
  {
   "cell_type": "code",
   "execution_count": 112,
   "metadata": {
    "collapsed": false
   },
   "outputs": [],
   "source": [
    "def defender_eu_power(d,a=2, X=10, C=2, pi=.5):\n",
    "    return (1-pi)*X*1./d**2 - pi*c*1/np.float_(d-a)**2\n",
    "\n",
    "dstrat = np.arange(3,10,.01)\n",
    "deu = defender_eu_power(dstrat)"
   ]
  },
  {
   "cell_type": "code",
   "execution_count": 113,
   "metadata": {
    "collapsed": false
   },
   "outputs": [
    {
     "data": {
      "text/plain": [
       "[<matplotlib.lines.Line2D at 0x7f3d05cfed10>]"
      ]
     },
     "execution_count": 113,
     "metadata": {},
     "output_type": "execute_result"
    },
    {
     "data": {
      "image/png": "[encoded data removed]",
      "text/plain": [
       "<matplotlib.figure.Figure at 0x7f3d05c5e710>"
      ]
     },
     "metadata": {},
     "output_type": "display_data"
    }
   ],
   "source": [
    "plt.plot(dstrat, deu)\n"
   ]
  },
  {
   "cell_type": "markdown",
   "metadata": {},
   "source": [
    "However, recall that\n",
    "\\begin{align}\n",
    "EU_A(a) &= aF(d-a) \\\\\n",
    "&=a(1-\\frac{1}{d-a})\\\\\n",
    "&\\text{Therefore} \\\\\n",
    "EU_A(d + \\sqrt{d}) &= d+\\sqrt{d} - \\frac{d+\\sqrt{d}}{d-(d+\\sqrt{d})} \\\\\n",
    "& = d+\\sqrt{d} - \\frac{d+\\sqrt{d}}{-\\sqrt{d}} \\\\\n",
    "& = d+\\sqrt{d} + \\frac{d+\\sqrt{d}}{\\sqrt{d}} \\\\\n",
    "& = (\\sqrt{d}+1)^2\n",
    "\\end{align}\n",
    "\n",
    "Similarly, \n",
    "\\begin{equation}\n",
    "EU_A(d + \\sqrt{d}) =(\\sqrt{d}-1)^2\n",
    "\\end{equation}\n",
    "\n",
    "Therefore, for any $d$, the global optimum is when the attacker choose $a = d+\\sqrt{d}$"
   ]
  },
  {
   "cell_type": "code",
   "execution_count": 86,
   "metadata": {
    "collapsed": false
   },
   "outputs": [],
   "source": [
    "def plot_attacker_br(d):\n",
    "    return d - d**.5\n",
    "\n",
    "def plot_defender_br1(a, c, pi, X):\n",
    "    Z= (1-pi)*X\n",
    "    return a/(1-(c*pi/Z)**.5)\n",
    "\n",
    "def plot_defender_br2(a,c, pi, X):\n",
    "    Z= (1-pi)*X\n",
    "    return a/(1+(c*pi/Z)**.5)\n",
    "\n",
    "c=2\n",
    "pi=.5\n",
    "X=10\n",
    "\n",
    "strats = np.arange(1,10,.01)\n",
    "abr = plot_attacker_br(strats)\n",
    "dbr1 = plot_defender_br1(strats, c,pi,X)\n",
    "dbr2 = plot_defender_br2(strats, c,pi,X)"
   ]
  },
  {
   "cell_type": "code",
   "execution_count": 87,
   "metadata": {
    "collapsed": false
   },
   "outputs": [
    {
     "data": {
      "text/plain": [
       "[<matplotlib.lines.Line2D at 0x7f3d06319110>]"
      ]
     },
     "execution_count": 87,
     "metadata": {},
     "output_type": "execute_result"
    },
    {
     "data": {
      "image/png": "[encoded data removed]",
      "text/plain": [
       "<matplotlib.figure.Figure at 0x7f3d062e3950>"
      ]
     },
     "metadata": {},
     "output_type": "display_data"
    }
   ],
   "source": [
    "plt.plot(strats, abr)\n",
    "plt.plot(dbr1, strats)\n",
    "plt.plot(dbr2, strats)"
   ]
  },
  {
   "cell_type": "code",
   "execution_count": 121,
   "metadata": {
    "collapsed": false
   },
   "outputs": [],
   "source": []
  },
  {
   "cell_type": "code",
   "execution_count": 85,
   "metadata": {
    "collapsed": false
   },
   "outputs": [
    {
     "data": {
      "text/plain": [
       "[<matplotlib.lines.Line2D at 0x7f3d05e76e50>]"
      ]
     },
     "execution_count": 85,
     "metadata": {},
     "output_type": "execute_result"
    },
    {
     "data": {
      "image/png": "[encoded data removed]",
      "text/plain": [
       "<matplotlib.figure.Figure at 0x7f3d063ea8d0>"
      ]
     },
     "metadata": {},
     "output_type": "display_data"
    }
   ],
   "source": [
    "plt.plot(np.arange(1000) - np.arange(1000)**.5)"
   ]
  },
  {
   "cell_type": "code",
   "execution_count": 121,
   "metadata": {
    "collapsed": false
   },
   "outputs": [
    {
     "data": {
      "text/plain": [
       "[<matplotlib.lines.Line2D at 0x7f3d058f0750>]"
      ]
     },
     "execution_count": 121,
     "metadata": {},
     "output_type": "execute_result"
    },
    {
     "data": {
      "image/png": "[encoded data removed]",
      "text/plain": [
       "<matplotlib.figure.Figure at 0x7f3d058f07d0>"
      ]
     },
     "metadata": {},
     "output_type": "display_data"
    }
   ],
   "source": [
    "x= np.arange(1,20,1)\n",
    "d1 = (x -x**.5)/(1+.3) -x\n",
    "d2 = (x -x**.5)/(1-.3) -x\n",
    "plt.plot(d1)\n",
    "plt.plot(d2)"
   ]
  },
  {
   "cell_type": "code",
   "execution_count": 20,
   "metadata": {
    "collapsed": false
   },
   "outputs": [],
   "source": [
    "from matplotlib import pyplot as plt\n",
    "import numpy as np\n",
    "%matplotlib inline\n",
    "\n",
    "def eu(d, a=.25, oneminuspix=.5, pic=.75):\n",
    "    return oneminuspix*(2*d - d*d) - pic*(2*(d-1) - (d-a)**2)\n",
    "    \n"
   ]
  },
  {
   "cell_type": "code",
   "execution_count": 21,
   "metadata": {
    "collapsed": false
   },
   "outputs": [
    {
     "data": {
      "text/plain": [
       "[<matplotlib.lines.Line2D at 0x7f8d2d08af90>]"
      ]
     },
     "execution_count": 21,
     "metadata": {},
     "output_type": "execute_result"
    },
    {
     "data": {
      "image/png": "[encoded data removed]",
      "text/plain": [
       "<matplotlib.figure.Figure at 0x7f8d2d50ecd0>"
      ]
     },
     "metadata": {},
     "output_type": "display_data"
    }
   ],
   "source": [
    "plt.plot(np.arange(0,1,.01), (eu(np.arange(0,1,.01))))"
   ]
  },
  {
   "cell_type": "code",
   "execution_count": 22,
   "metadata": {
    "collapsed": false
   },
   "outputs": [
    {
     "data": {
      "text/plain": [
       "-0.06499999999999995"
      ]
     },
     "execution_count": 22,
     "metadata": {},
     "output_type": "execute_result"
    }
   ],
   "source": [
    "eu(.5) - eu(.4)"
   ]
  },
  {
   "cell_type": "markdown",
   "metadata": {
    "collapsed": false
   },
   "source": [
    "**Lemma 1:** Log concavity implies that if $f'(x) =0$, then for any $x' \\neq x$, $f'(x) \\neq 0$ \n",
    "\n",
    "**Proof:** Strict log concavity implies $\\frac{f'(x)}{f(x)}$ is strictly monotone decreasing.  Therfore, if at some $x$, $f'(x) =0$ the for all $\\underline{x}<x$ and $\\overline{x}>x$ it must be that $\\frac{f'(\\overline{x})}{f(\\overline{x})}<0<\\frac{f'(\\underline{x})}{f(\\underline{x})}$ and since $f(x)>0$, this implies $f'(\\overline{x})<0<f'(\\underline{x})$\n",
    "\n",
    "**Lemma 2:** There exists an $x^*$ such that $f'(x^*)=0$\n",
    "\n",
    "**Proof:** Suppose there does not exists and $x^*$ such that $f'(x^*)=0$.  Then either $f'(x)>0 \\;\\; \\forall x$, $f'(x)<0 \\;\\; \\forall x$ or $f'(\\underline{x})<0$ for $\\underline{x} <x'$ and $f'(\\overline{x})>0$ for $\\overline{x} >x'$ for some $x'$ (otherwise we would find a local maximum).  Consider the case where $f'(x)>0 \\;\\; \\forall x$"
   ]
  },
  {
   "cell_type": "code",
   "execution_count": null,
   "metadata": {
    "collapsed": true
   },
   "outputs": [],
   "source": []
  }
 ],
 "metadata": {
  "kernelspec": {
   "display_name": "Python 2",
   "language": "python",
   "name": "python2"
  },
  "language_info": {
   "codemirror_mode": {
    "name": "ipython",
    "version": 2
   },
   "file_extension": ".py",
   "mimetype": "text/x-python",
   "name": "python",
   "nbconvert_exporter": "python",
   "pygments_lexer": "ipython2",
   "version": "2.7.6"
  }
 },
 "nbformat": 4,
 "nbformat_minor": 0
}
