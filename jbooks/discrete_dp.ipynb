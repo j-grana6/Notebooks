{
 "metadata": {
  "language": "Julia",
  "name": "",
  "signature": "sha256:29b8c48b5ba368339f57e08c77fbfb20199e6368e95800e12fe7c50559cda2c0"
 },
 "nbformat": 3,
 "nbformat_minor": 0,
 "worksheets": [
  {
   "cells": [
    {
     "cell_type": "heading",
     "level": 1,
     "metadata": {},
     "source": [
      "Dynamic programming for Cyber Network in Discrete Time"
     ]
    },
    {
     "cell_type": "markdown",
     "metadata": {},
     "source": [
      "\n",
      "For the first experiment\n",
      "------------------------\n",
      "\n",
      "Time is discrete (0,1,2,3,4,5...).\n",
      "\n",
      "We define a window length, $w$.\n",
      "\n",
      "We define an anomaly threshold, $k$.\n",
      "\n",
      "We are starting with a fully observable decision process  so the \"state\" at time $t$ consists of\n",
      "the number of messages sent in time $t-1, t-2, t-3...t-w.$   The state also includes whether or not the attacker\n",
      "has infected the subsequent node and whether or not the alarm has went off.\n",
      "\n",
      "At each time-step here is the sequence of events\n",
      "\n",
      "\n",
      "- The attacker observes the state.\n",
      "- He then chooses whether to send a message or not.\n",
      "- If the attacker does send a malicious message, then\n",
      "  'B' becomes infected with probability, $p$\n",
      "- with probability $q$, 'A' sends a normal message to 'B'\n",
      "- Then if the sum of all messages sent from 'A' to 'B' (that is both the normal and malicious messages)\n",
      "    in time $t, t-1, t-2,....t-w  > k$, then the alarm sounds.\n",
      "-  The attacker receives a reward of 1 if infects 'B' before the alarm sounds. "
     ]
    },
    {
     "cell_type": "code",
     "collapsed": false,
     "input": [
      "require(\"Iterators\")\n",
      "# Paramaters\n",
      "window = 5\n",
      "infect_probability = .5\n",
      "backgroun_rate = .7\n",
      "discount_rate = 1\n",
      "threshold = 6;"
     ],
     "language": "python",
     "metadata": {},
     "outputs": [],
     "prompt_number": 3
    },
    {
     "cell_type": "code",
     "collapsed": false,
     "input": [
      "function gen_states(w, k)\n",
      "    nummsg = [0,1,2]\n",
      "    msg_state = [(0), (1), (2)]\n",
      "    for i=1:w-2\n",
      "        newprod = Any[]\n",
      "        for elem in msg_state\n",
      "            for msg in nummsg\n",
      "                push!(newprod, tuple(elem..., msg))\n",
      "            end\n",
      "        end\n",
      "        msg_state=newprod\n",
      "    end\n",
      "    alarmstate = msg_state\n",
      "    for j =1:2\n",
      "        w_new_binary = Any[]\n",
      "        for elem in alarmstate\n",
      "            for alarm in [0,1]\n",
      "                w_new_binary=push!(w_new_binary, tuple(elem..., alarm))\n",
      "            end\n",
      "        alarmstate=w_new_binary\n",
      "        end\n",
      "    end\n",
      "    alarmstate\n",
      "    remove_impossible = Any[]\n",
      "    for possible in alarmstate\n",
      "        if ~((sum(possible[1 : w]) > k) & (possible[w+1]==0))\n",
      "            \n",
      "            remove_impossible = push!(remove_impossible, possible)\n",
      "        end\n",
      "    end\n",
      "    remove_impossible\n",
      "end"
     ],
     "language": "python",
     "metadata": {},
     "outputs": []
    },
    {
     "cell_type": "code",
     "collapsed": false,
     "input": [
      "function reward_vect(states, p ,q, k)\n",
      "    \"\"\"Returns the reward function for sending a message\n",
      "    the reward of not sending a message is 0.\"\"\"\n",
      "    R = Any[]\n",
      "    for s in states\n",
      "        if s[end] == 1 # Alarm already sounded\n",
      "            push!(R,0)\n",
      "        elseif s[end - 1] == 1\n",
      "           push!(R,0)\n",
      "        elseif sum(s[1:end-2]) < k - 1\n",
      "            push!(R,p)\n",
      "        elseif sum(s[1:end-2]) == k-1\n",
      "            push!(R,p*q)\n",
      "        elseif sum(s[1:end-2]) == k \n",
      "            push!(R,0)\n",
      "        end\n",
      "    end\n",
      "    R\n",
      "end\n",
      "            \n",
      "            "
     ],
     "language": "python",
     "metadata": {},
     "outputs": []
    },
    {
     "cell_type": "code",
     "collapsed": false,
     "input": [
      "states = gen_states(4,4);\n",
      "rs=reward_vect(states, .5, .4, 4);\n",
      "length(rs)"
     ],
     "language": "python",
     "metadata": {},
     "outputs": [
      {
       "metadata": {},
       "output_type": "pyout",
       "prompt_number": 6,
       "text": [
        "94"
       ]
      }
     ],
     "prompt_number": 6
    },
    {
     "cell_type": "code",
     "collapsed": false,
     "input": [
      "function  gen_transition_mat(states, p, q, k)\n",
      "    w = length(states[0]) - 2\n",
      "    mat_containter = Any[]\n",
      "    for s in states\n",
      "        row = Any[]\n",
      "        for s_prime in states\n",
      "            if ~ sprime[1:w-1] == s[2:w]\n",
      "                push!(row, 0)\n",
      "            elseif s[end]==1\n",
      "                if sprime == s\n",
      "                    push!(row, 1)\n",
      "                else push!(row, 0)\n",
      "                end\n",
      "            elseif s[end - 1] ==1\n",
      "                if sprime ==s\n",
      "                    push!(row, 1)\n",
      "                else\n",
      "                    push!(row, 0)\n",
      "                end\n",
      "            elseif s_prime[w] ==0\n",
      "                push!(row, 0)\n",
      "                elseif sum(s_prime[w-1]) <k-1\n",
      "                \n",
      "                        \n",
      "                    \n",
      "            "
     ],
     "language": "python",
     "metadata": {},
     "outputs": []
    },
    {
     "cell_type": "code",
     "collapsed": false,
     "input": [],
     "language": "python",
     "metadata": {},
     "outputs": [],
     "prompt_number": 238
    },
    {
     "cell_type": "code",
     "collapsed": false,
     "input": [],
     "language": "python",
     "metadata": {},
     "outputs": [],
     "prompt_number": 2
    },
    {
     "cell_type": "code",
     "collapsed": false,
     "input": [],
     "language": "python",
     "metadata": {},
     "outputs": []
    }
   ],
   "metadata": {}
  }
 ]
}