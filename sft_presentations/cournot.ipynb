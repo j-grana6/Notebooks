{
 "metadata": {
  "language": "Julia",
  "name": "",
  "signature": "sha256:bcc64af838a51a80355d52e1b030da29ff69b1556e4e9a00d7b34e312715f529"
 },
 "nbformat": 3,
 "nbformat_minor": 0,
 "worksheets": [
  {
   "cells": [
    {
     "cell_type": "heading",
     "level": 1,
     "metadata": {},
     "source": [
      "Event Driven Production Game"
     ]
    },
    {
     "cell_type": "heading",
     "level": 4,
     "metadata": {},
     "source": [
      "The Market"
     ]
    },
    {
     "cell_type": "markdown",
     "metadata": {},
     "source": [
      "- The state of the market is product demand of the form $P = a_s-\\beta_s Q$\n",
      "- The market spontaneously changes state at a rate of $\\lambda_m$\n",
      "- The market sends messages to the player 1 and 2 at a rate of $\\mu_1$ and $\\mu_2$, respectively."
     ]
    },
    {
     "cell_type": "heading",
     "level": 4,
     "metadata": {},
     "source": [
      "Players"
     ]
    },
    {
     "cell_type": "markdown",
     "metadata": {},
     "source": [
      "- 2 human controlled SFTs\n",
      "- The players only have one state\n",
      "- The player's choose production quantities upon receiving a message from the market by sending messages to the market.  Products go to market at a rate of $\\nu_1$ and $\\nu_2$"
     ]
    },
    {
     "cell_type": "heading",
     "level": 4,
     "metadata": {},
     "source": [
      "Equilibrium"
     ]
    },
    {
     "cell_type": "markdown",
     "metadata": {},
     "source": [
      "* The price is determined by the state of the market and the most recent message from both players.\n",
      "\n",
      "* Rewards are accumulated as profit, computed as $P\\times Q-CQ$, per unit time.  $C$ is an exogenously specified per-unit cost."
     ]
    },
    {
     "cell_type": "heading",
     "level": 4,
     "metadata": {},
     "source": [
      "Other Points"
     ]
    },
    {
     "cell_type": "markdown",
     "metadata": {},
     "source": [
      "* The game is infinite horizon\n",
      "* Rewards are discounted"
     ]
    },
    {
     "cell_type": "code",
     "collapsed": false,
     "input": [
      "import numpy as np\n",
      "from matplotlib import pyplot as plt\n",
      "from collections import defaultdict\n",
      "import copy\n",
      "from adsy.display import extended_styles\n",
      "%matplotlib inline"
     ],
     "language": "python",
     "metadata": {},
     "outputs": [],
     "prompt_number": 1
    },
    {
     "cell_type": "code",
     "collapsed": false,
     "input": [
      "extended_styles()"
     ],
     "language": "python",
     "metadata": {},
     "outputs": [
      {
       "html": [
        "\n",
        "        <script type=\"text/javascript\">\n",
        "        var toggleInput;\n",
        "        (function() {\n",
        "            var inputInterval;\n",
        "            var intervalCount = 0;\n",
        "            var init = false;\n",
        "            var inputUp = false;\n",
        "            toggleInput = function() {\n",
        "                if(inputUp) {\n",
        "                    $('div.input').slideDown();\n",
        "                    $('div.code_cell').attr('style', '');\n",
        "                }\n",
        "                else {\n",
        "                    $('div.input').slideUp();\n",
        "                    $('div.code_cell').attr('style', 'padding: 0px; margin: 0px');\n",
        "                }\n",
        "                inputUp = !inputUp;\n",
        "                init = true;\n",
        "            }\n",
        "            function initExtendedStyles() {\n",
        "                if(intervalCount > 15) {\n",
        "                    clearInterval(inputInterval);\n",
        "                }\n",
        "                intervalCount += 1;\n",
        "                try {\n",
        "                    toggleInput();\n",
        "                    clearInterval(inputInterval);\n",
        "                } catch(e) {}\n",
        "            }\n",
        "            if (typeof jQuery == 'undefined') {\n",
        "                // if jQuery Library is not loaded\n",
        "                var script = document.createElement( 'script' );\n",
        "                script.type = 'text/javascript';\n",
        "                script.src = 'https://ajax.googleapis.com/ajax/libs/jquery/1.8.3/jquery.min.js';\n",
        "                document.body.appendChild(script);\n",
        "            }\n",
        "\n",
        "            setTimeout(initExtendedStyles, 200);\n",
        "            // jQuery is doing this interval trick\n",
        "            // I guess its the way to do it then.\n",
        "            inputInterval = setInterval(initExtendedStyles, 1000);\n",
        "        }());\n",
        "        </script>\n",
        "       <a href=\"javascript:toggleInput()\">Toggle Input</a>\n",
        "        "
       ],
       "metadata": {},
       "output_type": "pyout",
       "prompt_number": 2,
       "text": [
        "<IPython.core.display.HTML at 0x7f50d4240910>"
       ]
      }
     ],
     "prompt_number": 2
    },
    {
     "cell_type": "code",
     "collapsed": false,
     "input": [
      "fig, ax = plt.subplots()\n",
      "ax.scatter([0,-1,1], [0, 1,1], s=1600, alpha=.25)\n",
      "ax.set_ylim(-.5,1.5)\n",
      "ax.set_xlim(-2,2)\n",
      "ax.text(0, 0, 'Market', horizontalalignment='center')\n",
      "ax.text(-1, 1, 'Firm 1', horizontalalignment='center')\n",
      "ax.text(1, 1, 'Firm 2', horizontalalignment='center')\n",
      "ax.arrow(-0,.15, -.75,.75, head_width=.04, color='black')\n",
      "ax.arrow(0,.15, .75,.75, head_width=.04, color='black')\n",
      "ax.text(0, .75, 'Demand State', horizontalalignment='center')\n",
      "ax.text(-1,.25, 'Production Quantities', horizontalalignment='right')\n",
      "ax.text(1,.25, 'Production Quantities', horizontalalignment='left')\n",
      "ax.arrow(-1.1,.85, .8,-.8, head_width=.04, color='black')\n",
      "ax.arrow(1.1,.85, -.8,-.8, head_width=.04, color='black')\n",
      "ax.axis('off');"
     ],
     "language": "python",
     "metadata": {},
     "outputs": [
      {
       "metadata": {},
       "output_type": "display_data",
       "png": "[encoded data removed]",
       "text": [
        "<matplotlib.figure.Figure at 0x7f50a11fcf10>"
       ]
      }
     ],
     "prompt_number": 3
    },
    {
     "cell_type": "code",
     "collapsed": false,
     "input": [
      "# # Parameters\n",
      "# lambdam = 1. # Rate at which market changes state\n",
      "# market_slope = [1,2,3,4,5] # Only slope changes;\n",
      "# market_intercept = 50. ; \n",
      "# market_to_p1 = 5\n",
      "# market_to_p2 = 5\n",
      "# p1_to_market = 5\n",
      "# p2_to_market= 5\n",
      "# cost=1.\n",
      "# def drawmkt(params):\n",
      "#     np.random.choice(params)\n",
      "# pispon = drawmkt\n",
      "# choiceset = np.arange(1, 10 ,1)\n",
      "# # Needs to include 0...hackish\n",
      "# discount=.1\n",
      "# c = .1"
     ],
     "language": "python",
     "metadata": {},
     "outputs": [],
     "prompt_number": 4
    },
    {
     "cell_type": "code",
     "collapsed": false,
     "input": [
      "\"\"\"\n",
      "Here we will build a message class.  This contains information of the sender, \n",
      "the receiver and the message content.\n",
      "\n",
      "Each player will have a set of messages as inputs into their class\n",
      "\n",
      "A player will have a react function in which they react to a message\n",
      "\n",
      "In this example, the player's choose which messages to emit.\n",
      "However, they emit messages immediately upon receiving a message.\n",
      "\n",
      "Therefore, when doing the MCTS, they need to choose the pi given reaction\n",
      "\n",
      "In short, the message they emit cannot be included in the function upon receiving a message\n",
      "\n",
      "Instead, there can be an 'emit message' function that selects according to some T\n",
      "\"\"\"\n",
      "\n",
      "class Message(object):\n",
      "    def __init__(self, sender, receiver, content, rate):\n",
      "        self.sender = sender\n",
      "        self.receiver = receiver\n",
      "        self.content = content\n",
      "        self.rate = rate\n",
      "        self.etype = 'Message'\n",
      "        \n",
      "class StateChange(object):\n",
      "    def __init__(self, SFT, rate, desc = ''):\n",
      "        self.SFT = SFT\n",
      "        self.rate = rate\n",
      "        self.desc = desc\n",
      "        self.state = 'Any' # Depends what state the rate occurs from\n",
      "        self.etype = 'StateChange'\n",
      "        \n",
      "class Player(object):\n",
      "    \n",
      "    def __init__(self, rate_to_market, discount, messages, c=10000, cost=1):\n",
      "        self.rate_to_market = rate_to_market\n",
      "        self.discount = discount\n",
      "        self.messages = messages\n",
      "        self.MCTS_Counts = {}\n",
      "        self.msgcontent = [msg.content for msg in messages]\n",
      "        self.c = c # MCTS param\n",
      "        self.state=0  # Helper to determine the current production quantity\n",
      "        self.cost = cost\n",
      "        \n",
      "    def receive_message_and_react(self, message):\n",
      "        \"\"\"\n",
      "        The messages do not change the attacker's state here.\n",
      "        Instead, he only chooses how to react...\n",
      "        \n",
      "        This is where we actually do the UCT!\n",
      "        \"\"\"\n",
      "        \n",
      "        # If not already visited, add to MCTS_Counts and select message\n",
      "        # at random,\n",
      "        if message not in self.MCTS_Counts.keys():\n",
      "            self.MCTS_Counts[message] = [np.ones(len(self.messages)), \n",
      "                                                 np.ones(len(self.messages))]\n",
      "        \n",
      "            outmessage = np.random.choice(self.messages)\n",
      "            #self.state = outmessage.content\n",
      "            return outmessage\n",
      "        else:\n",
      "            # DO UCT \n",
      "            counts = self.MCTS_Counts[message][1]\n",
      "            UCT_correction = (np.log(np.sum(counts))/np.float_(counts))**.5\n",
      "            ix = np.argmax( self.MCTS_Counts[message][0] +self.c * UCT_correction)\n",
      "            outmessage = self.messages[ix]\n",
      "            #self.state = outmessage.content\n",
      "            #self.MCTS_Counts[message][1][ix] +=1\n",
      "            return outmessage\n",
      "    \n",
      "    def reward(self, quantity, price, time):\n",
      "        \"\"\" \n",
      "        Time is the duration of time where the quantity/price combo holds\n",
      "        \n",
      "        We assume that rewards are accumulated continuously \n",
      "        \"\"\"\n",
      "        \n",
      "        profit = price * quantity -self.cost*quantity\n",
      "        discountedprofit = 1./self.discount*profit*(1-np.exp(-self.discount*time))\n",
      "        return discountedprofit\n",
      "    \n",
      "    def _content_tomsg(self):\n",
      "        self.ctm = {m.content: m for m in self.MCTS_Counts.keys()}\n",
      "    \n",
      "    \n",
      "class Market(object):\n",
      "    \"\"\"\n",
      "    The market needs to be able to receive messages as well as \n",
      "    spontaneously change it's state\n",
      "    \"\"\"\n",
      "    \n",
      "    def __init__(self, market_to_p1, market_to_p2, market_slope, market_intercept,\n",
      "                messages, statechanges):\n",
      "        self.market_to_p1 = market_to_p1\n",
      "        self.market_to_p2 = market_to_p2\n",
      "        self.market_slope = market_slope\n",
      "        self.market_intercept = market_intercept\n",
      "        self.state = self.market_slope[int(len(self.market_slope)/2)] # Random Starting State\n",
      "        self.messages = messages\n",
      "        self.statechanges = statechanges\n",
      "        \n",
      "    def change_state(self):\n",
      "        \"\"\"\n",
      "        Here the function is a random walk, it only ticks up or down\n",
      "        \"\"\"\n",
      "        current_ix = self.market_slope.index(self.state)\n",
      "        if current_ix == len(self.market_slope) - 1:\n",
      "            self.state = self.market_slope[current_ix - 1]\n",
      "        elif current_ix == 0:\n",
      "            self.state = self.market_slope[1] \n",
      "        else:\n",
      "            self.state = self.market_slope[current_ix + np.random.choice([1,-1])]\n",
      "        outmessage = [m for m in self.messages if m.content==self.state]\n",
      "        return outmessage\n",
      "\"\"\"\n",
      "The next steps are to aggregate all of the nodes in a net. \n",
      "Then we will do MCTS.\n",
      "\n",
      "The two foreseeable challenges will be:\n",
      "1) Drawing next events, However, this should be straightforward to keep track of\n",
      "since we have a message class (something that keeps track of messages in the system)\n",
      "and an event class... In other words, we should be able to keep track of those and sample \n",
      "according to the rate attribute and then remove if necessay\n",
      "\n",
      "2) Keeping track of rewards.  The discounting is funny.   Will think about this in the morning\n",
      "\"\"\"\n",
      "print"
     ],
     "language": "python",
     "metadata": {},
     "outputs": [
      {
       "output_type": "stream",
       "stream": "stdout",
       "text": [
        "\n"
       ]
      }
     ],
     "prompt_number": 5
    },
    {
     "cell_type": "code",
     "collapsed": false,
     "input": [
      "# ## Just Collect All of the messages\n",
      "\n",
      "# p1msgs = []\n",
      "# for elem in choiceset:\n",
      "#     p1msgs.append(Message('Player 1', 'Market', elem, p1_to_market))\n",
      "\n",
      "# p2msgs = []\n",
      "# for elem in choiceset:\n",
      "#     p2msgs.append(Message('Player 2', 'Market', elem, p2_to_market))\n",
      "\n",
      "# mktmsgs = []\n",
      "# for to in ['Player 1', 'Player 2']:\n",
      "#     if to == 'Player 1':\n",
      "#         rate = market_to_p1\n",
      "#     else :\n",
      "#         rate = market_to_p2\n",
      "#     for msg in market_slope:\n",
      "#         mktmsgs.append(Message('Market', to, msg, rate))\n",
      "# sponstate = StateChange('Market', lambdam, 'Market Demand Change')"
     ],
     "language": "python",
     "metadata": {},
     "outputs": [],
     "prompt_number": 6
    },
    {
     "cell_type": "code",
     "collapsed": false,
     "input": [
      "# player1 = Player(p1_to_market, discount, p1msgs)\n",
      "# player2 = Player(p2_to_market, discount, p2msgs)\n",
      "# market = Market(market_to_p1, market_to_p2, market_slope, market_intercept, mktmsgs, [sponstate])"
     ],
     "language": "python",
     "metadata": {},
     "outputs": [],
     "prompt_number": 7
    },
    {
     "cell_type": "code",
     "collapsed": false,
     "input": [
      "\"\"\"\n",
      "Here we do MCTS inside and SFT-Net class.\n",
      "\n",
      "The action is selected within the \n",
      "receive message method of the players\n",
      "\"\"\"\n",
      "\n",
      "class SFTNet(object):\n",
      "    def __init__(self, player1, player2, market):\n",
      "        self.player1 = player1\n",
      "        self.player2 = player2\n",
      "        self.market = market\n",
      "        self.possible_events = [self.market.statechanges[0]]\n",
      "        self.event_times = []\n",
      "        self.event_rewards = []\n",
      "    \n",
      "    def reset(self):\n",
      "        self.market.state = 4\n",
      "        self.possible_events = [self.market.statechanges[0]]\n",
      "        self.player1.state = 0\n",
      "        self.player2.state = 0\n",
      "        \n",
      "        #Use these to keep track of \n",
      "        # states, rewards and such\n",
      "        self.event_times = [0]\n",
      "        self.event_rewards = []\n",
      "        self.player1_sig = []\n",
      "        self.player2_sig = []\n",
      "        self.player1action = []\n",
      "        self.player2action = []\n",
      "        self.player1_act_times = []\n",
      "        self.player2_act_times = []\n",
      "        self.eventcoll = ['Start']\n",
      "        \n",
      "    def mcts(self, numsamps, depth, burnin=10):\n",
      "        for _ in range(numsamps):\n",
      "            self.reset()\n",
      "            t=0\n",
      "            reward_start_time = 0\n",
      "            res = self.simulate(depth,0 )\n",
      "            self.fill_in_MCTS(burnin=burnin)\n",
      "        return res\n",
      "            \n",
      "    def simulate(self, depth, t):\n",
      "        \n",
      "        while depth > 0 :\n",
      "            # First get the next event and the event time\n",
      "            event_rates = np.asarray([x.rate for x in self.possible_events])\n",
      "            event_probs = event_rates/float(np.sum(event_rates))\n",
      "            event = np.random.choice(self.possible_events, p = event_probs)\n",
      "            newt = t+  np.random.exponential(1./np.sum(event_rates))\n",
      "            self.event_times.append(newt)\n",
      "            self.eventcoll.append(event)\n",
      "            if event.etype == 'StateChange':\n",
      "                # If we have a spontaneous change\n",
      "                old_mkt_state = copy.deepcopy(self.market.state)\n",
      "                # Also changes the state of the market\n",
      "                self.possible_events.extend(self.market.change_state())\n",
      "\n",
      "                # This will all be for before the state change\n",
      "                timeinstate = newt-t # Old state to new state\n",
      "                \n",
      "                # This is the price before the state change\n",
      "                price = max(0, self.market.market_intercept - old_mkt_state* (self.player1.state + \n",
      "                                                                      self.player2.state))\n",
      "\n",
      "                # The reward accumulated between the current event and the previous\n",
      "                # event.  Discounted to the time of the PREVIOUS Event\n",
      "                prev_period_reward = [p.reward(p.state, price, timeinstate) \n",
      "                                   for p in [self.player1, self.player2]]\n",
      "                self.event_rewards.append(prev_period_reward)\n",
      "                #self.player1state.append(self.player1.state)\n",
      "                #self.player2state.append(self.player2.state)\n",
      "                #self.player1_sig.append(self.player1_sig[-1])\n",
      "                #self.player2_sig.append(self.player2_sig[-1])\n",
      "                \n",
      "            if (event.etype == 'Message') and (event.receiver =='Player 1'):\n",
      "                # Case when a firm receives a market signal.\n",
      "                # Can probably copy and paste for player 2\n",
      "                self.player1_act_times.append(newt)\n",
      "                self.possible_events.remove(event) # Remve the event\n",
      "                self.player1_sig.append(event.content) # Keep track of the signal\n",
      "                outmsg = self.player1.receive_message_and_react(event) # Send a new message\n",
      "                self.possible_events.append(outmsg) # Add to possible events\n",
      "                \n",
      "                self.player1action.append(outmsg.content)\n",
      "                timeinstate = newt-t # Old state to new state\n",
      "                price = max(0, self.market.market_intercept - \n",
      "                            self.market.state* (self.player1.state + self.player2.state))\n",
      "                prev_period_reward = [p.reward(p.state, price, timeinstate) \n",
      "                                   for p in [self.player1, self.player2]]\n",
      "                self.event_rewards.append(prev_period_reward)\n",
      "                #self.player1state.append(copy.copy(self.player1.state))\n",
      "                #self.player2state.append(copy.copy(self.player2.state))\n",
      "                #self.player2_sig.append(copy.copy(self.player2_sig[-1]))\n",
      "                \n",
      "            if (event.etype == 'Message') and (event.receiver =='Player 2'):\n",
      "                # Case when a firm receives a market signal.\n",
      "                self.player2_act_times.append(newt) # Keep trac of (re)act times\n",
      "                self.possible_events.remove(event) # Remve the event\n",
      "                self.player2_sig.append(event.content) # Keep track of the signal\n",
      "                outmsg = self.player2.receive_message_and_react(event) # Send a new message\n",
      "                self.possible_events.append(outmsg) # Add to possible events\n",
      "                self.player2action.append(outmsg.content)\n",
      "                timeinstate = newt-t # Old state to new state\n",
      "                price = max(0, self.market.market_intercept - \n",
      "                            self.market.state* (self.player1.state + self.player2.state))\n",
      "                prev_period_reward = [p.reward(p.state, price, timeinstate) \n",
      "                                   for p in [self.player1, self.player2]]\n",
      "                self.event_rewards.append(prev_period_reward)\n",
      "                #self.player1state.append(copy.copy(self.player1.state))\n",
      "                #self.player2state.append(copy.copy(self.player2.state))\n",
      "                #self.player1_sig.append(copy.copy(self.player1_sig[-1]))\n",
      "                \n",
      "            if (event.etype == 'Message') and (event.sender =='Player 1'):\n",
      "                # Case when a firm receives a market signal.\n",
      "                # Can probably copy and paste for player 2\n",
      "                self.possible_events.remove(event) # Remve the event\n",
      "                timeinstate = newt-t # Old state to new state\n",
      "                price = max(0, self.market.market_intercept - \n",
      "                            self.market.state* (self.player1.state + self.player2.state))\n",
      "                prev_period_reward = [p.reward(p.state, price, timeinstate) \n",
      "                                   for p in [self.player1, self.player2]]\n",
      "                # Update the player's state (quantity currently in market)\n",
      "                self.player1.state = event.content\n",
      "                self.event_rewards.append(prev_period_reward)\n",
      "                # self.player1state.append(copy.copy(self.player1.state))\n",
      "                # self.player2state.append(copy.copy(self.player2.state))\n",
      "                # self.player1_sig.append(copy.copy(self.player1_sig[-1]))\n",
      "                # self.player2_sig.append(copy.copy(self.player2_sig[-1]))\n",
      "\n",
      "            if (event.etype == 'Message') and (event.sender =='Player 2'):\n",
      "                # Case when a firm receives a market signal.\n",
      "                # Can probably copy and paste for player 2\n",
      "                self.possible_events.remove(event) # Remve the event\n",
      "                timeinstate = newt-t # Old state to new state\n",
      "                price = max(0, self.market.market_intercept - \n",
      "                            self.market.state* (copy.copy(self.player1.state) + \n",
      "                                                copy.copy(self.player2.state)))\n",
      "                prev_period_reward = [p.reward(p.state, price, timeinstate) \n",
      "                                   for p in [self.player1, self.player2]]\n",
      "                \n",
      "                # Update the player's state (quantity currently in market)\n",
      "                self.player2.state = event.content\n",
      "                ## Really what is happening is the market is sending a message\n",
      "                ## back to the node and letting it know the quantity is \"live\".\n",
      "                self.event_rewards.append(prev_period_reward) \n",
      "            \n",
      "            t = newt\n",
      "            depth -= 1\n",
      "        self.event_rewards.append([0,0]) # Won't record last action's rewards...\n",
      "        ## Just for accounting sake.\n",
      "        \n",
      "        \n",
      "    def fill_in_MCTS(self, burnin=1):\n",
      "        # First for player 1\n",
      "        self.player1._content_tomsg()\n",
      "        self.player2._content_tomsg()\n",
      "        for ix, time in enumerate(self.player1_act_times[:-burnin]):\n",
      "            time_ix = self.event_times.index(time) # Index of event\n",
      "            action = self.player1action[ix]\n",
      "            action_ix = self.player1.msgcontent.index(action)\n",
      "            rewards = [r[0] for r in self.event_rewards[time_ix : ]]\n",
      "            discounttimes = np.asarray(self.event_times[time_ix:]) - time\n",
      "            #print rewards, discounttimes\n",
      "            entry_key = self.player1.ctm[self.player1_sig[ix]]\n",
      "            totalreward = rewards/(1.+self.player1.discount)**discounttimes\n",
      "            self.player1.MCTS_Counts[entry_key][0][action_ix] += ( (\n",
      "                    np.sum(totalreward) -self.player1.MCTS_Counts[entry_key][0][action_ix]) / \n",
      "                    float(self.player1.MCTS_Counts[entry_key][1][action_ix]))\n",
      "            self.player1.MCTS_Counts[entry_key][1][action_ix] += 1\n",
      "            \n",
      "            \n",
      "        # Now player 2\n",
      "        for ix, time in enumerate(self.player2_act_times[:-burnin]):\n",
      "            time_ix = self.event_times.index(time) # Index of event\n",
      "            action = self.player2action[ix]\n",
      "            action_ix = self.player2.msgcontent.index(action)\n",
      "            rewards = [r[1] for r in self.event_rewards[time_ix : ]]\n",
      "            discounttimes = np.asarray(self.event_times[time_ix:]) - time\n",
      "            #print rewards, discounttimes\n",
      "            entry_key = self.player2.ctm[self.player2_sig[ix]]\n",
      "            totalreward = rewards/(1.+self.player2.discount)**discounttimes\n",
      "            self.player2.MCTS_Counts[entry_key][0][action_ix] += ( (\n",
      "                    np.sum(totalreward) -self.player2.MCTS_Counts[entry_key][0][action_ix]) / \n",
      "                    float(self.player2.MCTS_Counts[entry_key][1][action_ix]))\n",
      "            self.player2.MCTS_Counts[entry_key][1][action_ix] += 1\n",
      "            \n",
      "\n",
      "def get_policy(mcts_res):\n",
      "    r = {}\n",
      "    for key, val in mcts_res.iteritems():\n",
      "        r[key.content] =  np.argmax(val[0]) + 1\n",
      "    return r"
     ],
     "language": "python",
     "metadata": {},
     "outputs": [],
     "prompt_number": 8
    },
    {
     "cell_type": "heading",
     "level": 1,
     "metadata": {},
     "source": [
      "Experiment 1 - Stackelberg-ish"
     ]
    },
    {
     "cell_type": "code",
     "collapsed": false,
     "input": [
      "# Parameters\n",
      "lambdam = .25 # Rate at which market changes state\n",
      "market_slope = [1,2,3,4,5] # Only slope changes;\n",
      "market_intercept = 50.\n",
      "market_to_p1 = 50000\n",
      "market_to_p2 = 100\n",
      "p1_to_market = 50000\n",
      "p2_to_market= 100\n",
      "cost=1.\n",
      "def drawmkt(params):\n",
      "    np.random.choice(params)\n",
      "pispon = drawmkt \n",
      "choiceset = np.arange(1, 30 ,1)\n",
      "discount=.25\n",
      "c = 100000.\n",
      "\n",
      "# Setup\n",
      "p1msgs = []\n",
      "for elem in choiceset:\n",
      "    p1msgs.append(Message('Player 1', 'Market', elem, p1_to_market))\n",
      "\n",
      "p2msgs = []\n",
      "for elem in choiceset:\n",
      "    p2msgs.append(Message('Player 2', 'Market', elem, p2_to_market))\n",
      "\n",
      "mktmsgs = []\n",
      "for to in ['Player 1', 'Player 2']:\n",
      "    if to == 'Player 1':\n",
      "        rate = market_to_p1\n",
      "    else :\n",
      "        rate = market_to_p2\n",
      "    for msg in market_slope:\n",
      "        mktmsgs.append(Message('Market', to, msg, rate))\n",
      "sponstate = StateChange('Market', lambdam, 'Market Demand Change')\n",
      "player1 = Player(p1_to_market, discount, p1msgs, c=c, cost=cost)\n",
      "player2 = Player(p2_to_market, discount, p2msgs, c=c, cost=cost)\n",
      "market = Market(market_to_p1, market_to_p2, market_slope, market_intercept, mktmsgs, [sponstate])\n",
      "\n",
      "#Initialization\n",
      "Net=SFTNet(player1, player2, market)\n",
      "\n",
      "#Training\n",
      "a=Net.mcts(100000,2000, burnin=50)\n"
     ],
     "language": "python",
     "metadata": {},
     "outputs": [],
     "prompt_number": 9
    },
    {
     "cell_type": "code",
     "collapsed": false,
     "input": [
      "get_policy(Net.player2.MCTS_Counts)\n",
      "# 13 13 6 4 4"
     ],
     "language": "python",
     "metadata": {},
     "outputs": [
      {
       "metadata": {},
       "output_type": "pyout",
       "prompt_number": 10,
       "text": [
        "{1: 16, 2: 8, 3: 5, 4: 3, 5: 2}"
       ]
      }
     ],
     "prompt_number": 10
    },
    {
     "cell_type": "code",
     "collapsed": false,
     "input": [
      "get_policy(Net.player1.MCTS_Counts)\n",
      "# 15 9 5 5 4"
     ],
     "language": "python",
     "metadata": {},
     "outputs": [
      {
       "metadata": {},
       "output_type": "pyout",
       "prompt_number": 11,
       "text": [
        "{1: 17, 2: 9, 3: 5, 4: 4, 5: 3}"
       ]
      }
     ],
     "prompt_number": 11
    },
    {
     "cell_type": "code",
     "collapsed": false,
     "input": [
      "def set_optimals(net, stack=False):\n",
      "    net.player1.c = 0\n",
      "    net.player2.c = 0\n",
      "    old_mcts = [copy.deepcopy(net.player1.MCTS_Counts), copy.deepcopy(net.player2.MCTS_Counts)]\n",
      "    # Player 1 first\n",
      "    if not stack:\n",
      "        for key, val in net.player1.MCTS_Counts.iteritems():\n",
      "            val[1] = val[1]*0 + 1\n",
      "            maxix = np.argmax(val[0])\n",
      "            val[0] = val[0]*0\n",
      "            val[0][maxix] = 1\n",
      "        \n",
      "        for key, val in net.player2.MCTS_Counts.iteritems():\n",
      "            val[1] = val[1]*0 + 1\n",
      "            maxix = np.argmax(val[0])\n",
      "            val[0] = val[0]*0\n",
      "            val[0][maxix] = 1\n",
      "    else:\n",
      "        for key, val in net.player1.MCTS_Counts.iteritems():\n",
      "            val[1] = val[1]*0 + 1\n",
      "            val[0] = val[0]*0\n",
      "            \n",
      "            if key.content == 1:\n",
      "                val[0][18] =1\n",
      "            if key.content ==2 :\n",
      "                val[0][11] =1\n",
      "            if key.content ==3:\n",
      "                val[0][4] = 1\n",
      "            if key.content ==4:\n",
      "                val[0][2] =1\n",
      "            if key.content ==5:\n",
      "                val[0][1] =1\n",
      "        for key, val in net.player2.MCTS_Counts.iteritems():\n",
      "            val[1] = val[1]*0 + 1\n",
      "            val[0] = val[0]*0\n",
      "            \n",
      "            if key.content == 1:\n",
      "                val[0][14] =1\n",
      "            if key.content ==2 :\n",
      "                val[0][5] =1\n",
      "            if key.content ==3:\n",
      "                val[0][2] = 1\n",
      "            if key.content ==4:\n",
      "                val[0][1] =1\n",
      "            if key.content ==5:\n",
      "                val[0][0] =1\n",
      "                \n",
      "    return old_mcts"
     ],
     "language": "python",
     "metadata": {},
     "outputs": [],
     "prompt_number": 12
    },
    {
     "cell_type": "code",
     "collapsed": false,
     "input": [
      "def get_expected_utility(net, depth, burnin, nsamps, stack=False):\n",
      "    \"\"\"\n",
      "    MCTS gets reset by set_optimals\n",
      "    \"\"\"\n",
      "    set_optimals(net, stack)\n",
      "    p1_utils = []\n",
      "    p2_utils = []\n",
      "    for j in range(nsamps):\n",
      "        net.mcts(1, depth, burnin=burnin)\n",
      "        p1u = [x[0] for x in net.event_rewards]\n",
      "        p2u = [x[1] for x in net.event_rewards]\n",
      "        times = net.event_times\n",
      "        p1_utils.append(np.sum(np.asarray(p1u * np.exp(-net.player1.discount * np.asarray(times)))))\n",
      "        p2_utils.append(np.sum(np.asarray(p2u * np.exp(-net.player2.discount * np.asarray(times)))))\n",
      "    return p1_utils, p2_utils"
     ],
     "language": "python",
     "metadata": {},
     "outputs": [],
     "prompt_number": 13
    },
    {
     "cell_type": "code",
     "collapsed": false,
     "input": [
      "u1 = get_expected_utility(Net, 1000, 20, 400)\n",
      "#u2 = get_expected_utility(Net, 1000, 20, 400, stack=True)"
     ],
     "language": "python",
     "metadata": {},
     "outputs": [],
     "prompt_number": 14
    },
    {
     "cell_type": "code",
     "collapsed": false,
     "input": [
      "fig, ax = plt.subplots()\n",
      "ax.plot(np.cumsum(u1[0])/ np.float_(np.arange(1, len(u1[0])+ 1,1 )), label='MCTS EU')\n",
      "#ax.plot(np.cumsum(u2[0])/ np.float_(np.arange(1, len(u2[0])+ 1,1 )), label = 'Stackelberg EU')\n",
      "ax.set_title('Convergence of Leader\\'s Expected Utility')\n",
      "plt.legend()"
     ],
     "language": "python",
     "metadata": {},
     "outputs": [
      {
       "metadata": {},
       "output_type": "pyout",
       "prompt_number": 15,
       "text": [
        "<matplotlib.legend.Legend at 0x7f509f070210>"
       ]
      },
      {
       "metadata": {},
       "output_type": "display_data",
       "png": "[encoded data removed]",
       "text": [
        "<matplotlib.figure.Figure at 0x7f509f0eabd0>"
       ]
      }
     ],
     "prompt_number": 15
    },
    {
     "cell_type": "code",
     "collapsed": false,
     "input": [
      "fig, ax = plt.subplots()\n",
      "ax.plot(np.cumsum(u1[1])/ np.float_(np.arange(1, len(u1[1])+ 1,1 )), label='MCTS EU')\n",
      "#ax.plot(np.cumsum(u2[1])/ np.float_(np.arange(1, len(u2[1])+ 1,1 )), label = 'Stackelberg EU')\n",
      "ax.set_title('Convergence of follower\\'s Expected utility')\n",
      "plt.legend()"
     ],
     "language": "python",
     "metadata": {},
     "outputs": [
      {
       "metadata": {},
       "output_type": "pyout",
       "prompt_number": 16,
       "text": [
        "<matplotlib.legend.Legend at 0x7f509ef98f90>"
       ]
      },
      {
       "metadata": {},
       "output_type": "display_data",
       "png": "[encoded data removed]",
       "text": [
        "<matplotlib.figure.Figure at 0x7f509f03f910>"
       ]
      }
     ],
     "prompt_number": 16
    },
    {
     "cell_type": "code",
     "collapsed": false,
     "input": [],
     "language": "python",
     "metadata": {},
     "outputs": [],
     "prompt_number": 16
    },
    {
     "cell_type": "code",
     "collapsed": false,
     "input": [
      "fig, ax = plt.subplots()\n",
      "ax.hist(u1[0], label = 'Leader\\'s Distribution of Utility')\n",
      "ax.hist(u1[1], label = ' Follower\\'s Distribution of Utility', alpha=.5)\n",
      "plt.legend()"
     ],
     "language": "python",
     "metadata": {},
     "outputs": [
      {
       "metadata": {},
       "output_type": "pyout",
       "prompt_number": 17,
       "text": [
        "<matplotlib.legend.Legend at 0x7f509f1a1b90>"
       ]
      },
      {
       "metadata": {},
       "output_type": "display_data",
       "png": "[encoded data removed]",
       "text": [
        "<matplotlib.figure.Figure at 0x7f509eff50d0>"
       ]
      }
     ],
     "prompt_number": 17
    },
    {
     "cell_type": "code",
     "collapsed": false,
     "input": [
      "print np.mean(u1[0])\n",
      "print np.mean(u1[1])"
     ],
     "language": "python",
     "metadata": {},
     "outputs": [
      {
       "output_type": "stream",
       "stream": "stdout",
       "text": [
        "193.560491616\n",
        "161.666773245\n"
       ]
      }
     ],
     "prompt_number": 18
    },
    {
     "cell_type": "heading",
     "level": 3,
     "metadata": {},
     "source": [
      "What happens when the \"leader/follower' relationship becomes less clear..."
     ]
    },
    {
     "cell_type": "markdown",
     "metadata": {},
     "source": [
      "Here, there is still a leader (i.e. receives messages faster and sends messages faster) but there is a non-negligible probability that he doesn't act first"
     ]
    },
    {
     "cell_type": "code",
     "collapsed": false,
     "input": [
      "# Parameters\n",
      "lambdam = .25 # Rate at which market changes state\n",
      "market_slope = [1,2,3,4,5] # Only slope changes;\n",
      "market_intercept = 50.\n",
      "market_to_p1 = 50000\n",
      "market_to_p2 = 20000\n",
      "p1_to_market = 50000\n",
      "p2_to_market= 20000\n",
      "cost=1.\n",
      "def drawmkt(params):\n",
      "    np.random.choice(params)\n",
      "pispon = drawmkt\n",
      "choiceset = np.arange(1, 20 ,1)\n",
      "discount=.25\n",
      "c = 100000.\n",
      "\n",
      "# Setup\n",
      "p1msgs = []\n",
      "for elem in choiceset:\n",
      "    p1msgs.append(Message('Player 1', 'Market', elem, p1_to_market))\n",
      "\n",
      "p2msgs = []\n",
      "for elem in choiceset:\n",
      "    p2msgs.append(Message('Player 2', 'Market', elem, p2_to_market))\n",
      "\n",
      "mktmsgs = []\n",
      "for to in ['Player 1', 'Player 2']:\n",
      "    if to == 'Player 1':\n",
      "        rate = market_to_p1\n",
      "    else :\n",
      "        rate = market_to_p2\n",
      "    for msg in market_slope:\n",
      "        mktmsgs.append(Message('Market', to, msg, rate))\n",
      "sponstate = StateChange('Market', lambdam, 'Market Demand Change')\n",
      "player1 = Player(p1_to_market, discount, p1msgs, c=c, cost=cost)\n",
      "player2 = Player(p2_to_market, discount, p2msgs, c=c, cost=cost)\n",
      "market = Market(market_to_p1, market_to_p2, market_slope, market_intercept, mktmsgs, [sponstate])\n",
      "\n",
      "#Initialization\n",
      "Net=SFTNet(player1, player2, market)\n",
      "\n",
      "#Training\n",
      "a=Net.mcts(2500,1000, burnin=20)"
     ],
     "language": "python",
     "metadata": {},
     "outputs": [],
     "prompt_number": 19
    },
    {
     "cell_type": "code",
     "collapsed": false,
     "input": [
      "u3 = get_expected_utility(Net, 1000, 20, 400)\n",
      "u4 = get_expected_utility(Net, 1000, 20, 400, stack=True)"
     ],
     "language": "python",
     "metadata": {},
     "outputs": [],
     "prompt_number": 20
    },
    {
     "cell_type": "code",
     "collapsed": false,
     "input": [
      "fig, ax = plt.subplots()\n",
      "ax.hist(u3[0], label = 'Leader\\'s Distribution of Utility')\n",
      "ax.hist(u3[1], label = ' Follower\\'s Distribution of Utility', alpha=.5)\n",
      "plt.legend()"
     ],
     "language": "python",
     "metadata": {},
     "outputs": [
      {
       "metadata": {},
       "output_type": "pyout",
       "prompt_number": 21,
       "text": [
        "<matplotlib.legend.Legend at 0x7f509edabf50>"
       ]
      },
      {
       "metadata": {},
       "output_type": "display_data",
       "png": "[encoded data removed]",
       "text": [
        "<matplotlib.figure.Figure at 0x7f509edabfd0>"
       ]
      }
     ],
     "prompt_number": 21
    },
    {
     "cell_type": "code",
     "collapsed": false,
     "input": [
      "fig, ax = plt.subplots()\n",
      "ax.plot(np.cumsum(u1[0])/ np.float_(np.arange(1, len(u1[0])+ 1,1 )), label='MCTS EU, clear leader')\n",
      "ax.plot(np.cumsum(u3[0])/ np.float_(np.arange(1, len(u3[0])+ 1,1 )), label = 'MCTS_EU, less clear leader')\n",
      "ax.set_title('Convergence of Leader\\'s Expected Utility')\n",
      "plt.legend()"
     ],
     "language": "python",
     "metadata": {},
     "outputs": [
      {
       "metadata": {},
       "output_type": "pyout",
       "prompt_number": 22,
       "text": [
        "<matplotlib.legend.Legend at 0x7f509ed139d0>"
       ]
      },
      {
       "metadata": {},
       "output_type": "display_data",
       "png": "[encoded data removed]",
       "text": [
        "<matplotlib.figure.Figure at 0x7f509f196790>"
       ]
      }
     ],
     "prompt_number": 22
    },
    {
     "cell_type": "code",
     "collapsed": false,
     "input": [
      "fig, ax = plt.subplots()\n",
      "ax.plot(np.cumsum(u1[1])/ np.float_(np.arange(1, len(u1[0])+ 1,1 )), label='MCTS EU, clear leader')\n",
      "ax.plot(np.cumsum(u3[1])/ np.float_(np.arange(1, len(u3[0])+ 1,1 )), label = 'MCTS_EU, less clear leader')\n",
      "ax.set_title('Convergence of Followers\\'s Expected Utility')\n",
      "plt.legend()"
     ],
     "language": "python",
     "metadata": {},
     "outputs": [
      {
       "metadata": {},
       "output_type": "pyout",
       "prompt_number": 23,
       "text": [
        "<matplotlib.legend.Legend at 0x7f509ebe0550>"
       ]
      },
      {
       "metadata": {},
       "output_type": "display_data",
       "png": "[encoded data removed]",
       "text": [
        "<matplotlib.figure.Figure at 0x7f509ed49190>"
       ]
      }
     ],
     "prompt_number": 23
    },
    {
     "cell_type": "heading",
     "level": 3,
     "metadata": {},
     "source": [
      "Known Issues"
     ]
    },
    {
     "cell_type": "markdown",
     "metadata": {},
     "source": [
      "This model is far from the perfect rationality model for the same reason we keep running into.  \n",
      "\n",
      "* To summarize, the policies of the player's are mappings from messages generated by the market \n",
      "to production quantities.  \n",
      "\n",
      "* Players do not know what quantity the other player is producing and the messages the other receives.\n",
      "\n",
      "* Receiving a message from the market does not constitute an 'information state'.  As a simple example: \n",
      "\n",
      "    * Suppose the relative rate of message transmission is much higher than the rate of demand shocks.  \n",
      "    \n",
      "    * Suppose player 1 receives 2 messages only a short time apart.  Therefore, player 1 \"believes\" with a high probability that he has received a new market signal before player 2. He would then select his quantity based on what he believes player 2 will do when he receives his message.\n",
      "       \n",
      "    * On the other hand, suppose that player 1 receives messages \"far enough\" apart that he is convinced that player 2 already received a message from the market.  He will now choose his quantity under the assumption that player 2 already acted.  This quantity is likely to be different than when he is under the \"belief\" that he is acting before player two.\n",
      "    \n",
      "\n",
      "** The bottom line is if timing matters then players, in general, will have to keep track of time.  Since time is continuous, this means the state of the player will be continuous.  Of course, we can grid up the time, but then we return to discrete time and the benefit of continuous time is lost **\n",
      "\n",
      "More generally, for the players to be perfectly rational in a game where the state of all variables in the system is unknown, they will have to keep a record of all state changes and messages received along with the times.  \n",
      "\n",
      "\n",
      "**Computational Note**\n",
      "\n",
      "If we revisit states in an infinite horizon game, we need a \"burn out\" at the end.  In other words, we cannot update the last rewards because it will not include future rewards and bias down the average"
     ]
    },
    {
     "cell_type": "code",
     "collapsed": false,
     "input": [
      "x=np.random.random(10000)"
     ],
     "language": "python",
     "metadata": {},
     "outputs": [],
     "prompt_number": 24
    },
    {
     "cell_type": "code",
     "collapsed": false,
     "input": [
      "%timeit np.power()"
     ],
     "language": "python",
     "metadata": {},
     "outputs": [
      {
       "ename": "ValueError",
       "evalue": "invalid number of arguments",
       "output_type": "pyerr",
       "traceback": [
        "\u001b[1;31m---------------------------------------------------------------------------\u001b[0m\n\u001b[1;31mValueError\u001b[0m                                Traceback (most recent call last)",
        "\u001b[1;32m<ipython-input-25-a0fd36fb53cd>\u001b[0m in \u001b[0;36m<module>\u001b[1;34m()\u001b[0m\n\u001b[1;32m----> 1\u001b[1;33m \u001b[0mget_ipython\u001b[0m\u001b[1;33m(\u001b[0m\u001b[1;33m)\u001b[0m\u001b[1;33m.\u001b[0m\u001b[0mmagic\u001b[0m\u001b[1;33m(\u001b[0m\u001b[1;34mu'timeit np.power()'\u001b[0m\u001b[1;33m)\u001b[0m\u001b[1;33m\u001b[0m\u001b[0m\n\u001b[0m",
        "\u001b[1;32m/usr/local/lib/python2.7/dist-packages/IPython/core/interactiveshell.pyc\u001b[0m in \u001b[0;36mmagic\u001b[1;34m(self, arg_s)\u001b[0m\n\u001b[0;32m   2203\u001b[0m         \u001b[0mmagic_name\u001b[0m\u001b[1;33m,\u001b[0m \u001b[0m_\u001b[0m\u001b[1;33m,\u001b[0m \u001b[0mmagic_arg_s\u001b[0m \u001b[1;33m=\u001b[0m \u001b[0marg_s\u001b[0m\u001b[1;33m.\u001b[0m\u001b[0mpartition\u001b[0m\u001b[1;33m(\u001b[0m\u001b[1;34m' '\u001b[0m\u001b[1;33m)\u001b[0m\u001b[1;33m\u001b[0m\u001b[0m\n\u001b[0;32m   2204\u001b[0m         \u001b[0mmagic_name\u001b[0m \u001b[1;33m=\u001b[0m \u001b[0mmagic_name\u001b[0m\u001b[1;33m.\u001b[0m\u001b[0mlstrip\u001b[0m\u001b[1;33m(\u001b[0m\u001b[0mprefilter\u001b[0m\u001b[1;33m.\u001b[0m\u001b[0mESC_MAGIC\u001b[0m\u001b[1;33m)\u001b[0m\u001b[1;33m\u001b[0m\u001b[0m\n\u001b[1;32m-> 2205\u001b[1;33m         \u001b[1;32mreturn\u001b[0m \u001b[0mself\u001b[0m\u001b[1;33m.\u001b[0m\u001b[0mrun_line_magic\u001b[0m\u001b[1;33m(\u001b[0m\u001b[0mmagic_name\u001b[0m\u001b[1;33m,\u001b[0m \u001b[0mmagic_arg_s\u001b[0m\u001b[1;33m)\u001b[0m\u001b[1;33m\u001b[0m\u001b[0m\n\u001b[0m\u001b[0;32m   2206\u001b[0m \u001b[1;33m\u001b[0m\u001b[0m\n\u001b[0;32m   2207\u001b[0m     \u001b[1;31m#-------------------------------------------------------------------------\u001b[0m\u001b[1;33m\u001b[0m\u001b[1;33m\u001b[0m\u001b[0m\n",
        "\u001b[1;32m/usr/local/lib/python2.7/dist-packages/IPython/core/interactiveshell.pyc\u001b[0m in \u001b[0;36mrun_line_magic\u001b[1;34m(self, magic_name, line)\u001b[0m\n\u001b[0;32m   2124\u001b[0m                 \u001b[0mkwargs\u001b[0m\u001b[1;33m[\u001b[0m\u001b[1;34m'local_ns'\u001b[0m\u001b[1;33m]\u001b[0m \u001b[1;33m=\u001b[0m \u001b[0msys\u001b[0m\u001b[1;33m.\u001b[0m\u001b[0m_getframe\u001b[0m\u001b[1;33m(\u001b[0m\u001b[0mstack_depth\u001b[0m\u001b[1;33m)\u001b[0m\u001b[1;33m.\u001b[0m\u001b[0mf_locals\u001b[0m\u001b[1;33m\u001b[0m\u001b[0m\n\u001b[0;32m   2125\u001b[0m             \u001b[1;32mwith\u001b[0m \u001b[0mself\u001b[0m\u001b[1;33m.\u001b[0m\u001b[0mbuiltin_trap\u001b[0m\u001b[1;33m:\u001b[0m\u001b[1;33m\u001b[0m\u001b[0m\n\u001b[1;32m-> 2126\u001b[1;33m                 \u001b[0mresult\u001b[0m \u001b[1;33m=\u001b[0m \u001b[0mfn\u001b[0m\u001b[1;33m(\u001b[0m\u001b[1;33m*\u001b[0m\u001b[0margs\u001b[0m\u001b[1;33m,\u001b[0m\u001b[1;33m**\u001b[0m\u001b[0mkwargs\u001b[0m\u001b[1;33m)\u001b[0m\u001b[1;33m\u001b[0m\u001b[0m\n\u001b[0m\u001b[0;32m   2127\u001b[0m             \u001b[1;32mreturn\u001b[0m \u001b[0mresult\u001b[0m\u001b[1;33m\u001b[0m\u001b[0m\n\u001b[0;32m   2128\u001b[0m \u001b[1;33m\u001b[0m\u001b[0m\n",
        "\u001b[1;32m/usr/local/lib/python2.7/dist-packages/IPython/core/magics/execution.pyc\u001b[0m in \u001b[0;36mtimeit\u001b[1;34m(self, line, cell)\u001b[0m\n",
        "\u001b[1;32m/usr/local/lib/python2.7/dist-packages/IPython/core/magic.pyc\u001b[0m in \u001b[0;36m<lambda>\u001b[1;34m(f, *a, **k)\u001b[0m\n\u001b[0;32m    191\u001b[0m     \u001b[1;31m# but it's overkill for just that one bit of state.\u001b[0m\u001b[1;33m\u001b[0m\u001b[1;33m\u001b[0m\u001b[0m\n\u001b[0;32m    192\u001b[0m     \u001b[1;32mdef\u001b[0m \u001b[0mmagic_deco\u001b[0m\u001b[1;33m(\u001b[0m\u001b[0marg\u001b[0m\u001b[1;33m)\u001b[0m\u001b[1;33m:\u001b[0m\u001b[1;33m\u001b[0m\u001b[0m\n\u001b[1;32m--> 193\u001b[1;33m         \u001b[0mcall\u001b[0m \u001b[1;33m=\u001b[0m \u001b[1;32mlambda\u001b[0m \u001b[0mf\u001b[0m\u001b[1;33m,\u001b[0m \u001b[1;33m*\u001b[0m\u001b[0ma\u001b[0m\u001b[1;33m,\u001b[0m \u001b[1;33m**\u001b[0m\u001b[0mk\u001b[0m\u001b[1;33m:\u001b[0m \u001b[0mf\u001b[0m\u001b[1;33m(\u001b[0m\u001b[1;33m*\u001b[0m\u001b[0ma\u001b[0m\u001b[1;33m,\u001b[0m \u001b[1;33m**\u001b[0m\u001b[0mk\u001b[0m\u001b[1;33m)\u001b[0m\u001b[1;33m\u001b[0m\u001b[0m\n\u001b[0m\u001b[0;32m    194\u001b[0m \u001b[1;33m\u001b[0m\u001b[0m\n\u001b[0;32m    195\u001b[0m         \u001b[1;32mif\u001b[0m \u001b[0mcallable\u001b[0m\u001b[1;33m(\u001b[0m\u001b[0marg\u001b[0m\u001b[1;33m)\u001b[0m\u001b[1;33m:\u001b[0m\u001b[1;33m\u001b[0m\u001b[0m\n",
        "\u001b[1;32m/usr/local/lib/python2.7/dist-packages/IPython/core/magics/execution.pyc\u001b[0m in \u001b[0;36mtimeit\u001b[1;34m(self, line, cell)\u001b[0m\n\u001b[0;32m   1011\u001b[0m             \u001b[0mnumber\u001b[0m \u001b[1;33m=\u001b[0m \u001b[1;36m1\u001b[0m\u001b[1;33m\u001b[0m\u001b[0m\n\u001b[0;32m   1012\u001b[0m             \u001b[1;32mfor\u001b[0m \u001b[0m_\u001b[0m \u001b[1;32min\u001b[0m \u001b[0mrange\u001b[0m\u001b[1;33m(\u001b[0m\u001b[1;36m1\u001b[0m\u001b[1;33m,\u001b[0m \u001b[1;36m10\u001b[0m\u001b[1;33m)\u001b[0m\u001b[1;33m:\u001b[0m\u001b[1;33m\u001b[0m\u001b[0m\n\u001b[1;32m-> 1013\u001b[1;33m                 \u001b[1;32mif\u001b[0m \u001b[0mtimer\u001b[0m\u001b[1;33m.\u001b[0m\u001b[0mtimeit\u001b[0m\u001b[1;33m(\u001b[0m\u001b[0mnumber\u001b[0m\u001b[1;33m)\u001b[0m \u001b[1;33m>=\u001b[0m \u001b[1;36m0.2\u001b[0m\u001b[1;33m:\u001b[0m\u001b[1;33m\u001b[0m\u001b[0m\n\u001b[0m\u001b[0;32m   1014\u001b[0m                     \u001b[1;32mbreak\u001b[0m\u001b[1;33m\u001b[0m\u001b[0m\n\u001b[0;32m   1015\u001b[0m                 \u001b[0mnumber\u001b[0m \u001b[1;33m*=\u001b[0m \u001b[1;36m10\u001b[0m\u001b[1;33m\u001b[0m\u001b[0m\n",
        "\u001b[1;32m/usr/lib/python2.7/timeit.pyc\u001b[0m in \u001b[0;36mtimeit\u001b[1;34m(self, number)\u001b[0m\n\u001b[0;32m    193\u001b[0m         \u001b[0mgc\u001b[0m\u001b[1;33m.\u001b[0m\u001b[0mdisable\u001b[0m\u001b[1;33m(\u001b[0m\u001b[1;33m)\u001b[0m\u001b[1;33m\u001b[0m\u001b[0m\n\u001b[0;32m    194\u001b[0m         \u001b[1;32mtry\u001b[0m\u001b[1;33m:\u001b[0m\u001b[1;33m\u001b[0m\u001b[0m\n\u001b[1;32m--> 195\u001b[1;33m             \u001b[0mtiming\u001b[0m \u001b[1;33m=\u001b[0m \u001b[0mself\u001b[0m\u001b[1;33m.\u001b[0m\u001b[0minner\u001b[0m\u001b[1;33m(\u001b[0m\u001b[0mit\u001b[0m\u001b[1;33m,\u001b[0m \u001b[0mself\u001b[0m\u001b[1;33m.\u001b[0m\u001b[0mtimer\u001b[0m\u001b[1;33m)\u001b[0m\u001b[1;33m\u001b[0m\u001b[0m\n\u001b[0m\u001b[0;32m    196\u001b[0m         \u001b[1;32mfinally\u001b[0m\u001b[1;33m:\u001b[0m\u001b[1;33m\u001b[0m\u001b[0m\n\u001b[0;32m    197\u001b[0m             \u001b[1;32mif\u001b[0m \u001b[0mgcold\u001b[0m\u001b[1;33m:\u001b[0m\u001b[1;33m\u001b[0m\u001b[0m\n",
        "\u001b[1;32m<magic-timeit>\u001b[0m in \u001b[0;36minner\u001b[1;34m(_it, _timer)\u001b[0m\n",
        "\u001b[1;31mValueError\u001b[0m: invalid number of arguments"
       ]
      }
     ],
     "prompt_number": 25
    },
    {
     "cell_type": "code",
     "collapsed": false,
     "input": [
      "%timeit .5**x"
     ],
     "language": "python",
     "metadata": {},
     "outputs": []
    },
    {
     "cell_type": "code",
     "collapsed": false,
     "input": [
      "%%timeit\n",
      "for z in x:\n",
      "    .5**z"
     ],
     "language": "python",
     "metadata": {},
     "outputs": []
    },
    {
     "cell_type": "code",
     "collapsed": false,
     "input": [
      "%timeit .5**x"
     ],
     "language": "python",
     "metadata": {},
     "outputs": []
    },
    {
     "cell_type": "code",
     "collapsed": false,
     "input": [
      "2+2"
     ],
     "language": "python",
     "metadata": {},
     "outputs": []
    },
    {
     "cell_type": "code",
     "collapsed": false,
     "input": [],
     "language": "python",
     "metadata": {},
     "outputs": []
    }
   ],
   "metadata": {}
  }
 ]
}