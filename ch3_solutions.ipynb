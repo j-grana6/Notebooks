{
 "metadata": {
  "name": "ch3_solutions"
 },
 "nbformat": 3,
 "nbformat_minor": 0,
 "worksheets": [
  {
   "cells": [
    {
     "cell_type": "heading",
     "level": 1,
     "metadata": {},
     "source": [
      "Chapter 3 Detailed Solutions"
     ]
    },
    {
     "cell_type": "heading",
     "level": 2,
     "metadata": {},
     "source": [
      "Question 13"
     ]
    },
    {
     "cell_type": "markdown",
     "metadata": {},
     "source": [
      "Remember the interpretation of elasticity:  $\\frac{\\%\\Delta Q}{\\%\\Delta P} \\;$ This means that for a one unit increase in price, the percent quantity demanded changes by the elasticity.  Here the numberator is 5 and the denominator is 4.  Therefore, elasticity is $\\frac{5}{4} = 1.25$.  That means a one percent increase in price reduces quantity by 1.25%.  Then recall:\n",
      "\n",
      "If elasticity $< 1$. Then the good is inelastic\n",
      "\n",
      "If elasticity $ >1$ then the good is elastic\n",
      "\n",
      "If elasticity = 1 then the good is unitary elastic.\n",
      "\n",
      "Therefore, the cereal is elastic.\n",
      "\n",
      "Now remember the rules for revenue maximization:\n",
      "\n",
      "If a good is elastic, a firm should lower the price to raise revenue.  If the good is inelastic, the firm should raise the price.  If the good is unitary elastic, then revenue is maximized.  Since in this case the good is elastic and the firm raised the price (the opposite of what they should do for revenue maximization) we would expect revenue to decrease.  "
     ]
    },
    {
     "cell_type": "heading",
     "level": 2,
     "metadata": {},
     "source": [
      "Question 15"
     ]
    },
    {
     "cell_type": "markdown",
     "metadata": {},
     "source": [
      "$Q_d = 150000 - 1.5P$.  Remember, the demand function tells us the quantity demanded for any given price.  So therefore, we can say that quantity is $150000-1.5P$.  Also, recall revenue is $P \\cdot Q$.  Therefore if we multiply $150000-1.5P$ by $P$, we get an expression for revenue in terms of price.  Therefore, $R=(150000-1.5P)P= 150000P-1.5P^2$.  Now we want to know the price that maximizes this function.  To get this we take the derivitave and get:\n",
      "\n",
      "$\\frac{dR}{dP} = 150000-3P$\n",
      "\n",
      "We then set the derivative equal to zero and solve.\n",
      "\n",
      "$150000-3P=0$\n",
      "\n",
      "$150000 = 3P$\n",
      "\n",
      "$P= 50000$\n",
      "\n",
      "Therefore, to maximize revenue, the firm should charge $\\$$50,000."
     ]
    },
    {
     "cell_type": "code",
     "collapsed": false,
     "input": [
      "x= np.arange(0,100000,10)\n",
      "y = 150000*x - 1.5*x**2\n",
      "plt.plot(x,y)"
     ],
     "language": "python",
     "metadata": {},
     "outputs": [
      {
       "output_type": "pyout",
       "prompt_number": 3,
       "text": [
        "[<matplotlib.lines.Line2D at 0x242b550>]"
       ]
      },
      {
       "output_type": "display_data",
       "png": "[encoded data removed]"
      }
     ],
     "prompt_number": 3
    },
    {
     "cell_type": "markdown",
     "metadata": {},
     "source": [
      "We see the maximum of the revenue function occurs at 50000."
     ]
    },
    {
     "cell_type": "heading",
     "level": 2,
     "metadata": {},
     "source": [
      "Question 16"
     ]
    },
    {
     "cell_type": "markdown",
     "metadata": {},
     "source": [
      "This is yet another question in organizing.  Make sure to pull out all of the necessary details:\n",
      "\n",
      "Traditional photo equipment: 40% of revenue, which is $\\$$400M, growth = 2%.  Own price elasticity = -2\n",
      "\n",
      "Digital photo equipment: 60% of revenue, which is $\\$$600M, Cross price elasticity =-.3.\n",
      "\n",
      "Now, we are assuming that that the price of disposable cameras decreases by 4%.  Applying the change in revenue formula which is:\n",
      "\n",
      "$\\Delta R = (R_x(1+E_x) + R_y\\cdot E_{x,y})\\%\\Delta P$\n",
      "\n",
      "In this case, $R_x=400M$, $E_x = -2$, $R_y=600M$, $E_{x,y} = -.3$, and $\\Delta P = -.04$  Plugging in we get:\n",
      "\n",
      "$\\Delta R = (400,000,000(1-2) + 600,000,000(-.3))(-.04)=23,200,000$\n",
      "\n",
      "Therefore, total revenue will change by $\\$23,200,000$."
     ]
    },
    {
     "cell_type": "heading",
     "level": 2,
     "metadata": {},
     "source": [
      "Question 21"
     ]
    },
    {
     "cell_type": "markdown",
     "metadata": {},
     "source": [
      "Again, pull out all of the information:\n",
      "\n",
      "$Q_{sat}^d = 152.5-.8P_{sat}+1.2P_{DSL}+.5P_{cable}$\n",
      "\n",
      "$P_{DSL} = 25$, $P_{cable}=50$, and revenue needs are $\\$$15M.\n",
      "\n",
      "Now we need to determine revenue if $P_{sat}$ is $\\$$55.  To do this we first see how many units would be sold by plugging into the demand function\n",
      "\n",
      "$Q = 152.5-.8(55)+1.2(25) + .5(50) = 163.5$ thousand units.\n",
      "\n",
      "Now to get reveue, we multiply quantity by price:\n",
      "\n",
      "$163.5 \\cdot 55 = 8992.5$ thousand, which is $8,992,500$, which is not enough to cover costs.  \n",
      "\n",
      "Now to see what maximum reveneu is, we need to first write a revenue function.  Since we know $P_{DSL}$ and $ P_{cable}$, we can treat those as given and rewrite the demad function as:\n",
      "\n",
      "$Q = 152.5-.8(P)+1.2(25) + .5(50) $ which simplifies to\n",
      "\n",
      "$Q = 207.5 - .8P$.  Therefore total revenue is\n",
      "\n",
      "$R = (207.5-.8P)P = 207.5P -.8P^2$\n",
      "\n",
      "To get the maximum, we again take the derivative and set it equal to 0.  \n",
      "\n",
      "$\\frac{dR}{dP} = 207.5 - 1.6P=0$\n",
      "\n",
      "$P=129.69$\n",
      "\n",
      "At that price, the total quantity sold would be $207.5 - .8(129.69) = 103.75$.  That means total revenue is $103,750 \\cdot 129.69=13,452,743$.  That means even when revenue is maximized, the company cannot cover its costs."
     ]
    },
    {
     "cell_type": "markdown",
     "metadata": {},
     "source": [
      "<script type=\"text/javascript\">\n",
      "\n",
      "show=true;\n",
      "\n",
      "function toggle(){\n",
      "\n",
      "if (show){\n",
      "\n",
      "$('div.input').hide();\n",
      "\n",
      "}else{\n",
      "\n",
      "$('div.input').show();\n",
      "\n",
      "}\n",
      "\n",
      "show = !show\n",
      "\n",
      "}\n",
      "\n",
      "</script>\n",
      "\n",
      "<a href=\"javascript:toggle()\" target=\"_self\">toggle input</a>"
     ]
    },
    {
     "cell_type": "code",
     "collapsed": false,
     "input": [],
     "language": "python",
     "metadata": {},
     "outputs": [],
     "prompt_number": 6
    }
   ],
   "metadata": {}
  }
 ]
}