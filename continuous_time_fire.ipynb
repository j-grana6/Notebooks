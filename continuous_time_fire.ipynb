{
 "metadata": {
  "name": "",
  "signature": "sha256:d74bbb8f95fd483c8908e7ec87bf7a23754719bb353a9a4927ee9eee55fd9e96"
 },
 "nbformat": 3,
 "nbformat_minor": 0,
 "worksheets": [
  {
   "cells": [
    {
     "cell_type": "heading",
     "level": 2,
     "metadata": {},
     "source": [
      "Moving to continuous time"
     ]
    },
    {
     "cell_type": "code",
     "collapsed": false,
     "input": [
      "import igraph  as ig\n",
      "import numpy as np\n",
      "from IPython.display import Image\n",
      "from adsy.ipython import extended_styles\n",
      "extended_styles()"
     ],
     "language": "python",
     "metadata": {},
     "outputs": [
      {
       "html": [
        "\n",
        "        <script type=\"text/javascript\">\n",
        "        var toggleInput;\n",
        "        (function() {\n",
        "            var inputInterval;\n",
        "            var intervalCount = 0;\n",
        "            var init = false;\n",
        "            var inputUp = false;\n",
        "            toggleInput = function() {\n",
        "                if(inputUp) {\n",
        "                    $('div.input').slideDown();\n",
        "                    $('div.code_cell').attr('style', '');\n",
        "                }\n",
        "                else {\n",
        "                    $('div.input').slideUp();\n",
        "                    $('div.code_cell').attr('style', 'padding: 0px; margin: 0px');\n",
        "                }\n",
        "                inputUp = !inputUp;\n",
        "                init = true;\n",
        "            }\n",
        "            function initExtendedStyles() {\n",
        "                if(intervalCount > 15) {\n",
        "                    clearInterval(inputInterval);\n",
        "                }\n",
        "                intervalCount += 1;\n",
        "                try {\n",
        "                    toggleInput();\n",
        "                    clearInterval(inputInterval);\n",
        "                } catch(e) {}\n",
        "            }\n",
        "            if (typeof jQuery == 'undefined') {\n",
        "                // if jQuery Library is not loaded\n",
        "                var script = document.createElement( 'script' );\n",
        "                script.type = 'text/javascript';\n",
        "                script.src = 'https://ajax.googleapis.com/ajax/libs/jquery/1.8.3/jquery.min.js';\n",
        "                document.body.appendChild(script);\n",
        "            }\n",
        "\n",
        "            setTimeout(initExtendedStyles, 200);\n",
        "            // jQuery is doing this interval trick\n",
        "            // I guess its the way to do it then.\n",
        "            inputInterval = setInterval(initExtendedStyles, 1000);\n",
        "        }());\n",
        "        </script>\n",
        "       <a href=\"javascript:toggleInput()\">Toggle Input</a>\n",
        "        "
       ],
       "metadata": {},
       "output_type": "pyout",
       "prompt_number": 59,
       "text": [
        "<IPython.core.display.HTML at 0x255e390>"
       ]
      }
     ],
     "prompt_number": 59
    },
    {
     "cell_type": "code",
     "collapsed": false,
     "input": [
      "G=ig.Graph(25)\n",
      "G.vs['color']='green'\n",
      "G.vs[12]['color']='red'\n",
      "fuel = []\n",
      "r = np.random.randint(1,9, size=25)\n",
      "G.vs['label']=r"
     ],
     "language": "python",
     "metadata": {},
     "outputs": [],
     "prompt_number": 34
    },
    {
     "cell_type": "heading",
     "level": 3,
     "metadata": {},
     "source": [
      "Current model of fuel"
     ]
    },
    {
     "cell_type": "code",
     "collapsed": false,
     "input": [
      "ig.plot(G, \"plot.png\", layout = G.layout_grid(), vertex_shape='square', vertex_size=60, bbox=(250,250))\n",
      "Image(\"plot.png\")"
     ],
     "language": "python",
     "metadata": {},
     "outputs": [
      {
       "metadata": {},
       "output_type": "pyout",
       "png": "[encoded data removed]",
       "prompt_number": 52,
       "text": [
        "<IPython.core.display.Image at 0x255ee10>"
       ]
      }
     ],
     "prompt_number": 52
    },
    {
     "cell_type": "code",
     "collapsed": false,
     "input": [
      "\n",
      "G2=ig.Graph(25)\n",
      "G2.vs['color']='green'\n",
      "G2.vs[12]['color']='red'\n",
      "G2.vs['label']= r\n",
      "G2.vs[12]['label'] = 3\n",
      "ig.plot(G2, \"plot.png\", layout = G2.layout_grid(), vertex_shape='square', vertex_size=60, bbox=(250,250))\n",
      "Image(\"plot.png\")"
     ],
     "language": "python",
     "metadata": {},
     "outputs": [
      {
       "metadata": {},
       "output_type": "pyout",
       "png": "[encoded data removed]",
       "prompt_number": 56,
       "text": [
        "<IPython.core.display.Image at 0x274c110>"
       ]
      }
     ],
     "prompt_number": 56
    },
    {
     "cell_type": "code",
     "collapsed": false,
     "input": [
      "G3=ig.Graph(25)\n",
      "G3.vs['color']='green'\n",
      "G3.vs[12]['color']='red'\n",
      "G3.vs[13]['color'] = 'red'\n",
      "G3.vs['label']= r\n",
      "G3.vs[12]['label'] = 2\n",
      "ig.plot(G3, \"plot.png\", layout = G2.layout_grid(), vertex_shape='square', vertex_size=60, bbox=(250,250))\n",
      "Image(\"plot.png\")"
     ],
     "language": "python",
     "metadata": {},
     "outputs": [
      {
       "metadata": {},
       "output_type": "pyout",
       "png": "[encoded data removed]",
       "prompt_number": 58,
       "text": [
        "<IPython.core.display.Image at 0x2741250>"
       ]
      }
     ],
     "prompt_number": 58
    },
    {
     "cell_type": "code",
     "collapsed": false,
     "input": [
      "G4=ig.Graph(25)\n",
      "G4.vs['color']='green'\n",
      "G4.vs[12]['color']='red'\n",
      "G4.vs['label']= [0]*len(G4.vs)\n",
      "G4.vs[12]['label'] = 2\n",
      "es= []\n",
      "for i in range(24):\n",
      "    es.append((i, i+1))\n",
      "for i in range(20):\n",
      "    es.append((i, i+5))\n",
      "es.pop(4)\n",
      "es.pop(8)\n",
      "es.pop(12)\n",
      "es.pop(16)\n",
      "G4.add_edges(es)\n",
      "G4.es['label'] = [0]*len(es)\n",
      "G4.es[9]['label']=2\n",
      "G4.es[10]['label']=4\n",
      "G4.es[27]['label']=3\n",
      "G4.es[32]['label']=3\n",
      "\n",
      "ig.plot(G4, \"plot.png\", layout = G2.layout_grid(), vertex_shape='square', \n",
      "        vertex_size=60, bbox=(500,500), vertex_label_color='blue', margin=60)\n",
      "Image(\"plot.png\")"
     ],
     "language": "python",
     "metadata": {},
     "outputs": [
      {
       "metadata": {},
       "output_type": "pyout",
       "png": "[encoded data removed]",
       "prompt_number": 126,
       "text": [
        "<IPython.core.display.Image at 0x487f350>"
       ]
      }
     ],
     "prompt_number": 126
    },
    {
     "cell_type": "heading",
     "level": 3,
     "metadata": {},
     "source": [
      "New stuff"
     ]
    },
    {
     "cell_type": "code",
     "collapsed": false,
     "input": [
      "G4=ig.Graph(25)\n",
      "G4.vs['color']='green'\n",
      "G4.vs[12]['color']='red'\n",
      "G4.vs['label']= [0]*len(G4.vs)\n",
      "G4.vs[12]['label'] = 2\n",
      "G4.vs[13]['color'] = 'red'\n",
      "G4.vs[13]['label'] = 9\n",
      "es= []\n",
      "for i in range(24):\n",
      "    es.append((i, i+1))\n",
      "for i in range(20):\n",
      "    es.append((i, i+5))\n",
      "es.pop(4)\n",
      "es.pop(8)\n",
      "es.pop(12)\n",
      "es.pop(16)\n",
      "G4.add_edges(es)\n",
      "G4.es['label'] = [0]*len(es)\n",
      "G4.es[9]['label']=2\n",
      "G4.es[10]['label']=0\n",
      "G4.es[27]['label']=3\n",
      "G4.es[32]['label']=3\n",
      "G4.es[10]['label']=2\n",
      "G4.es[11]['label']=2\n",
      "G4.es[28]['label']=4\n",
      "G4.es[33]['label']=5\n",
      "\n",
      "ig.plot(G4, \"plot.png\", layout = G2.layout_grid(), vertex_shape='square', \n",
      "        vertex_size=60, bbox=(500,500), vertex_label_color='blue', margin=60)\n",
      "Image(\"plot.png\")"
     ],
     "language": "python",
     "metadata": {},
     "outputs": [
      {
       "metadata": {},
       "output_type": "pyout",
       "png": "[encoded data removed]",
       "prompt_number": 152,
       "text": [
        "<IPython.core.display.Image at 0x4848690>"
       ]
      }
     ],
     "prompt_number": 152
    },
    {
     "cell_type": "code",
     "collapsed": false,
     "input": [
      "G4=ig.Graph(25)\n",
      "G4.vs['color']='green'\n",
      "G4.vs['label']= [0]*len(G4.vs)\n",
      "G4.vs[12]['color']= 'yellow'\n",
      "G4.vs[13]['color'] = 'red'\n",
      "G4.vs[13]['label'] = 9\n",
      "es= []\n",
      "for i in range(24):\n",
      "    es.append((i, i+1))\n",
      "for i in range(20):\n",
      "    es.append((i, i+5))\n",
      "es.pop(4)\n",
      "es.pop(8)\n",
      "es.pop(12)\n",
      "es.pop(16)\n",
      "G4.add_edges(es)\n",
      "G4.es['label'] = [0]*len(es)\n",
      "G4.es[10]['label']=2\n",
      "G4.es[11]['label']=2\n",
      "G4.es[28]['label']=4\n",
      "G4.es[33]['label']=5\n",
      "\n",
      "ig.plot(G4, \"plot.png\", layout = G2.layout_grid(), vertex_shape='square', \n",
      "        vertex_size=60, bbox=(500,500), vertex_label_color='blue', margin=60)\n",
      "Image(\"plot.png\")"
     ],
     "language": "python",
     "metadata": {},
     "outputs": [
      {
       "metadata": {},
       "output_type": "pyout",
       "png": "[encoded data removed]",
       "prompt_number": 137,
       "text": [
        "<IPython.core.display.Image at 0x4848dd0>"
       ]
      }
     ],
     "prompt_number": 137
    },
    {
     "cell_type": "heading",
     "level": 3,
     "metadata": {},
     "source": [
      "In summary"
     ]
    },
    {
     "cell_type": "markdown",
     "metadata": {},
     "source": [
      "* Nodes can be either normal, burning or scorched.\n",
      "* Burning nodes go out according to a Poisson rate\n",
      "* Fire spreads according to a Poisson rate\n",
      "* Scorched nodes no longer send \"messages\" and can no longer change state\n",
      "* The UAV's decision can be...\n",
      "    * The rate at which to move in each direction (continuous space)\n",
      "    * Given a \"velocity\", the UAV can choose in which direction to move in discrete time steps.  (Discrete space)\n",
      "\n",
      "* The utility function:\n",
      "    * Needs to be different from the discrete time case.\n",
      "    * Continuous reward - For each cell, the UAV earns an infinitesimal reward of $1\\Delta t$ whenever his most recent observation is the same as the true state.\n",
      "    * Discrete reward - The UAV earns a reward of 1 whenever it updates from an incorrect belief about a state of a cell to the correct state.\n",
      "    * Combination - The UAV earns a continuous reward whenever its most recent observation about a burning cell is consistent with the cell actually butning and a discrete reward whenever he first observes a scorched cell."
     ]
    },
    {
     "cell_type": "heading",
     "level": 1,
     "metadata": {},
     "source": [
      "SFT-Model for 9/12/14"
     ]
    },
    {
     "cell_type": "code",
     "collapsed": false,
     "input": [],
     "language": "python",
     "metadata": {},
     "outputs": []
    },
    {
     "cell_type": "heading",
     "level": 2,
     "metadata": {},
     "source": [
      "Summary\n"
     ]
    },
    {
     "cell_type": "markdown",
     "metadata": {},
     "source": [
      "* 2-D grid\n",
      "* Each cell has a predefined fuel level\n",
      "* A fuel level of 0 is the same as no fire\n",
      "* The fire can spread to any neighbor of a node that is currently burning\n",
      "\n",
      "State\n",
      "-----\n",
      "\n",
      "* Each cell in  the 2D grid is a node.\n",
      "* The state space for each node is $\\{0,1,2,3...F\\}\\times \\{B, N\\}$, which represents the fuel and (B)urning and (N)atural state\n",
      "* The state of the system is just the state of all nodes and is discrete.\n",
      "\n",
      "Spontaneous Transmission\n",
      "------------------------\n",
      "\n",
      "* Here there are (at least) two options\n",
      "    * Given node $i$ is in state $s$, the fuel decreases by 1 at a rate of $\\lambda_{i,s}$ (in this case the rate at which fuel is burned up can depend on the level of fuel)\n",
      "    * For node $i$, the fuel decreases at a rate of $\\lambda_i$\n",
      "    \n",
      "Message rates\n",
      "-------------\n",
      "\n",
      "* Node $i$ can send a message (burning ember) to node $j$ while it is in state $s$, given by $\\hat{\\lambda}_{i,s,j}$\n",
      "\n",
      "Stimulated Transmission\n",
      "-----------------------\n",
      "\n",
      "* Upon receiving an ember from node $i$, if node $j$ is in state $N$ and has fuel $>0$, it changes it's state with probability $p$ \n",
      "\n",
      "This completes the description of the fire in terms of an SFT-Net\n",
      "\n",
      "Firefighters\n",
      "------------\n",
      "\n",
      "* To include adding retardant, we can have firefighters send a message to a cell then the cell undergoes a stimulated transmission with rate $\\lambda_r$.  \n",
      "\n",
      "UAVs\n",
      "----\n",
      "\n",
      "The UAVs have edges to **all** nodes in the grid.  However, the rate at which they send messages is restricted by the location (state).  To \"observe\" a cell, they send a message to cell $i$ (intuitively they are \"looking\" at the cell).  The message content includes the location of the UAV.  The cell then sends a message back to the UAV at rate $\\beta_{i,UAV_s}$, where $UAV_s$ is the state (location of the UAV) that is transmitted to the cell by the message originating from the UAV.\n",
      "\n",
      "This formulation allows UAVs to observe cells other than the ones they are currently in.  I would imagine that the rate at which UAVs receive messages from cells is decreasing in the distance they are from the cell.\n"
     ]
    },
    {
     "cell_type": "heading",
     "level": 2,
     "metadata": {},
     "source": [
      "Discrete Time Scenario as an SFT-Net"
     ]
    },
    {
     "cell_type": "markdown",
     "metadata": {},
     "source": [
      "It turns out that the way the SFT-Net formulation is set up, mixing discrete time and continuous time events is trivial.  In the case of YJs scenario, everything is discrete.  Recall:\n",
      "\n",
      "Recall:\n",
      "\n",
      "* Time is Discrete $(0,1,2,3,4...)$\n",
      "* The physical environment is a grid\n",
      "* Each cell has a fuel level\n",
      "* In each time step, the fire can spread in any direction with probability $p$ if there is fuel in the receiving cell.\n",
      "* If a cell is burning, the fuel decreases by 1 in each timestep.\n",
      "* The UAV has full observability.  That is, he knows which cells are burning and which cells are not.  He also knows the fuel level of all cells.\n",
      "* His goal is to minimize the distance between what he knows to be true and the most recent observation. \n",
      "\n",
      "From the SFT-Net paper, if there is a deterministic time of action at time $t'$, we can write\n",
      "\n",
      "$P(\\sigma(t' + \\delta t) =\\sigma''|\\sigma(t') =\\sigma')=B(\\sigma'' |\\sigma') + A'_{\\sigma'', \\sigma'}\\delta t$  \n",
      "\n",
      "Where B represents the discrete time probability transition matrix and $A$ represents the transition matrix of all *but* the discrete time events.  However, in YJ's model, all transitions are discrete so the A matrix is a matrix of $0$'s and therefore,\n",
      "for any time $t'$ where there is a possibility of a transition (*not excluding the null transition*), we have\n",
      "\n",
      "$P(\\sigma(t') =\\sigma''|\\sigma(t'-\\delta t) =\\sigma')=B(\\sigma'' |\\sigma') + O(some\\;function\\;of\\;dt)$\n",
      "\n",
      "where $B$ is the discrete time probability transition matrix.  Trivial?\n",
      "\n",
      "Also some other notes:\n",
      "\n",
      "To model simultaneous changes, we can always \"join nodes\"  For example, if we know beforehand that it is possible for two events to happen simultaneously then we just combine those nodes (i.e. create a node whose space and messages are the set products of the two nodes).  "
     ]
    },
    {
     "cell_type": "code",
     "collapsed": false,
     "input": [],
     "language": "python",
     "metadata": {},
     "outputs": []
    }
   ],
   "metadata": {}
  }
 ]
}